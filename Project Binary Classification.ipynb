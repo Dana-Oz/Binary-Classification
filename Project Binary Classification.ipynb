{
 "cells": [
  {
   "cell_type": "markdown",
   "metadata": {},
   "source": [
    "# Binary classification project- Intro to ML"
   ]
  },
  {
   "cell_type": "code",
   "execution_count": 176,
   "metadata": {},
   "outputs": [],
   "source": [
    "import pandas as pd\n",
    "import numpy as np\n",
    "import seaborn as sns\n",
    "import matplotlib.pyplot as plt\n",
    "pd.set_option('display.max_rows', 120)\n",
    "pd.set_option('display.max_columns', 120)\n",
    "from sklearn.linear_model import LogisticRegression\n",
    "from sklearn.model_selection import train_test_split\n",
    "import re\n",
    "from sklearn import preprocessing\n",
    "import xgboost as xgb\n",
    "from scipy import stats\n",
    "from sklearn.decomposition import PCA\n",
    "from sklearn.preprocessing import StandardScaler\n",
    "from sklearn.metrics import roc_curve, auc\n",
    "from sklearn.model_selection import KFold\n",
    "from sklearn.metrics import plot_confusion_matrix,accuracy_score\n",
    "from sklearn.cluster import KMeans\n",
    "from sklearn.model_selection import GridSearchCV\n",
    "from sklearn.neighbors import KNeighborsClassifier"
   ]
  },
  {
   "cell_type": "code",
   "execution_count": 2,
   "metadata": {},
   "outputs": [],
   "source": [
    "df = pd.read_csv('train.csv')"
   ]
  },
  {
   "cell_type": "markdown",
   "metadata": {},
   "source": [
    "# Data Exploration & Munging "
   ]
  },
  {
   "cell_type": "markdown",
   "metadata": {},
   "source": [
    "We will first look at the data and get some informations and basic statistics"
   ]
  },
  {
   "cell_type": "code",
   "execution_count": 181,
   "metadata": {
    "scrolled": true
   },
   "outputs": [
    {
     "data": {
      "text/html": [
       "<div>\n",
       "<style scoped>\n",
       "    .dataframe tbody tr th:only-of-type {\n",
       "        vertical-align: middle;\n",
       "    }\n",
       "\n",
       "    .dataframe tbody tr th {\n",
       "        vertical-align: top;\n",
       "    }\n",
       "\n",
       "    .dataframe thead th {\n",
       "        text-align: right;\n",
       "    }\n",
       "</style>\n",
       "<table border=\"1\" class=\"dataframe\">\n",
       "  <thead>\n",
       "    <tr style=\"text-align: right;\">\n",
       "      <th></th>\n",
       "      <th>0</th>\n",
       "      <th>1</th>\n",
       "      <th>2</th>\n",
       "      <th>3</th>\n",
       "      <th>4</th>\n",
       "      <th>5</th>\n",
       "      <th>6</th>\n",
       "      <th>7</th>\n",
       "      <th>8</th>\n",
       "      <th>9</th>\n",
       "      <th>10</th>\n",
       "      <th>11</th>\n",
       "      <th>12</th>\n",
       "      <th>13</th>\n",
       "      <th>14</th>\n",
       "      <th>15</th>\n",
       "      <th>16</th>\n",
       "      <th>17</th>\n",
       "      <th>18</th>\n",
       "      <th>19</th>\n",
       "      <th>20</th>\n",
       "      <th>21</th>\n",
       "      <th>22</th>\n",
       "      <th>23</th>\n",
       "      <th>24</th>\n",
       "      <th>label</th>\n",
       "    </tr>\n",
       "  </thead>\n",
       "  <tbody>\n",
       "    <tr>\n",
       "      <th>0</th>\n",
       "      <td>1.170981</td>\n",
       "      <td>5.672133</td>\n",
       "      <td>0.6</td>\n",
       "      <td>80.0</td>\n",
       "      <td>76.0</td>\n",
       "      <td>D</td>\n",
       "      <td>a21</td>\n",
       "      <td>1.107143</td>\n",
       "      <td>0.692857</td>\n",
       "      <td>5</td>\n",
       "      <td>0.702957</td>\n",
       "      <td>1024.1</td>\n",
       "      <td>1025.9</td>\n",
       "      <td>0</td>\n",
       "      <td>0.6mm</td>\n",
       "      <td>32.0</td>\n",
       "      <td>13.9</td>\n",
       "      <td>12.2</td>\n",
       "      <td>D</td>\n",
       "      <td>D</td>\n",
       "      <td>28.0</td>\n",
       "      <td>7.0</td>\n",
       "      <td>2011</td>\n",
       "      <td>40.0</td>\n",
       "      <td>15.420787</td>\n",
       "      <td>1</td>\n",
       "    </tr>\n",
       "    <tr>\n",
       "      <th>1</th>\n",
       "      <td>2.595788</td>\n",
       "      <td>23.203289</td>\n",
       "      <td>6.4</td>\n",
       "      <td>43.0</td>\n",
       "      <td>64.0</td>\n",
       "      <td>N</td>\n",
       "      <td>a9</td>\n",
       "      <td>1.700000</td>\n",
       "      <td>0.614286</td>\n",
       "      <td>11</td>\n",
       "      <td>0.223911</td>\n",
       "      <td>1005.3</td>\n",
       "      <td>1008.1</td>\n",
       "      <td>0</td>\n",
       "      <td>0.0mm</td>\n",
       "      <td>50.0</td>\n",
       "      <td>18.6</td>\n",
       "      <td>16.5</td>\n",
       "      <td>N</td>\n",
       "      <td>I</td>\n",
       "      <td>61.0</td>\n",
       "      <td>43.0</td>\n",
       "      <td>2012</td>\n",
       "      <td>110.0</td>\n",
       "      <td>240.496883</td>\n",
       "      <td>0</td>\n",
       "    </tr>\n",
       "    <tr>\n",
       "      <th>2</th>\n",
       "      <td>0.972794</td>\n",
       "      <td>7.127348</td>\n",
       "      <td>0.4</td>\n",
       "      <td>63.0</td>\n",
       "      <td>100.0</td>\n",
       "      <td>C</td>\n",
       "      <td>a4</td>\n",
       "      <td>1.242857</td>\n",
       "      <td>0.428571</td>\n",
       "      <td>6</td>\n",
       "      <td>0.180848</td>\n",
       "      <td>1020.8</td>\n",
       "      <td>1026.5</td>\n",
       "      <td>0</td>\n",
       "      <td>0.0mm</td>\n",
       "      <td>NaN</td>\n",
       "      <td>16.5</td>\n",
       "      <td>9.6</td>\n",
       "      <td>M</td>\n",
       "      <td>NaN</td>\n",
       "      <td>15.0</td>\n",
       "      <td>7.0</td>\n",
       "      <td>2012</td>\n",
       "      <td>0.0</td>\n",
       "      <td>224.282903</td>\n",
       "      <td>0</td>\n",
       "    </tr>\n",
       "    <tr>\n",
       "      <th>3</th>\n",
       "      <td>1.891667</td>\n",
       "      <td>17.881507</td>\n",
       "      <td>4.2</td>\n",
       "      <td>65.0</td>\n",
       "      <td>71.0</td>\n",
       "      <td>K</td>\n",
       "      <td>a15</td>\n",
       "      <td>1.050000</td>\n",
       "      <td>0.671429</td>\n",
       "      <td>10</td>\n",
       "      <td>0.181289</td>\n",
       "      <td>1021.9</td>\n",
       "      <td>1019.8</td>\n",
       "      <td>0</td>\n",
       "      <td>0.8mm</td>\n",
       "      <td>88.0</td>\n",
       "      <td>14.2</td>\n",
       "      <td>11.4</td>\n",
       "      <td>K</td>\n",
       "      <td>D</td>\n",
       "      <td>39.0</td>\n",
       "      <td>24.0</td>\n",
       "      <td>2010</td>\n",
       "      <td>130.0</td>\n",
       "      <td>86.810830</td>\n",
       "      <td>0</td>\n",
       "    </tr>\n",
       "    <tr>\n",
       "      <th>4</th>\n",
       "      <td>1.965881</td>\n",
       "      <td>13.936969</td>\n",
       "      <td>3.2</td>\n",
       "      <td>40.0</td>\n",
       "      <td>62.0</td>\n",
       "      <td>F</td>\n",
       "      <td>a1</td>\n",
       "      <td>1.950000</td>\n",
       "      <td>1.085714</td>\n",
       "      <td>3</td>\n",
       "      <td>0.237347</td>\n",
       "      <td>1005.3</td>\n",
       "      <td>1007.8</td>\n",
       "      <td>0</td>\n",
       "      <td>0.0mm</td>\n",
       "      <td>112.0</td>\n",
       "      <td>26.6</td>\n",
       "      <td>23.4</td>\n",
       "      <td>C</td>\n",
       "      <td>NaN</td>\n",
       "      <td>30.0</td>\n",
       "      <td>20.0</td>\n",
       "      <td>2011</td>\n",
       "      <td>0.0</td>\n",
       "      <td>120.642922</td>\n",
       "      <td>0</td>\n",
       "    </tr>\n",
       "  </tbody>\n",
       "</table>\n",
       "</div>"
      ],
      "text/plain": [
       "          0          1    2     3      4  5    6         7         8   9  \\\n",
       "0  1.170981   5.672133  0.6  80.0   76.0  D  a21  1.107143  0.692857   5   \n",
       "1  2.595788  23.203289  6.4  43.0   64.0  N   a9  1.700000  0.614286  11   \n",
       "2  0.972794   7.127348  0.4  63.0  100.0  C   a4  1.242857  0.428571   6   \n",
       "3  1.891667  17.881507  4.2  65.0   71.0  K  a15  1.050000  0.671429  10   \n",
       "4  1.965881  13.936969  3.2  40.0   62.0  F   a1  1.950000  1.085714   3   \n",
       "\n",
       "         10      11      12 13     14     15    16    17 18   19    20    21  \\\n",
       "0  0.702957  1024.1  1025.9  0  0.6mm   32.0  13.9  12.2  D    D  28.0   7.0   \n",
       "1  0.223911  1005.3  1008.1  0  0.0mm   50.0  18.6  16.5  N    I  61.0  43.0   \n",
       "2  0.180848  1020.8  1026.5  0  0.0mm    NaN  16.5   9.6  M  NaN  15.0   7.0   \n",
       "3  0.181289  1021.9  1019.8  0  0.8mm   88.0  14.2  11.4  K    D  39.0  24.0   \n",
       "4  0.237347  1005.3  1007.8  0  0.0mm  112.0  26.6  23.4  C  NaN  30.0  20.0   \n",
       "\n",
       "     22     23          24  label  \n",
       "0  2011   40.0   15.420787      1  \n",
       "1  2012  110.0  240.496883      0  \n",
       "2  2012    0.0  224.282903      0  \n",
       "3  2010  130.0   86.810830      0  \n",
       "4  2011    0.0  120.642922      0  "
      ]
     },
     "execution_count": 181,
     "metadata": {},
     "output_type": "execute_result"
    }
   ],
   "source": [
    "df.head()"
   ]
  },
  {
   "cell_type": "code",
   "execution_count": 182,
   "metadata": {},
   "outputs": [
    {
     "name": "stdout",
     "output_type": "stream",
     "text": [
      "<class 'pandas.core.frame.DataFrame'>\n",
      "RangeIndex: 22161 entries, 0 to 22160\n",
      "Data columns (total 26 columns):\n",
      " #   Column  Non-Null Count  Dtype  \n",
      "---  ------  --------------  -----  \n",
      " 0   0       22161 non-null  float64\n",
      " 1   1       22161 non-null  float64\n",
      " 2   2       22161 non-null  float64\n",
      " 3   3       22102 non-null  float64\n",
      " 4   4       22057 non-null  float64\n",
      " 5   5       20812 non-null  object \n",
      " 6   6       22161 non-null  object \n",
      " 7   7       22154 non-null  float64\n",
      " 8   8       22143 non-null  float64\n",
      " 9   9       22161 non-null  int64  \n",
      " 10  10      22161 non-null  float64\n",
      " 11  11      22055 non-null  float64\n",
      " 12  12      22048 non-null  float64\n",
      " 13  13      22161 non-null  object \n",
      " 14  14      22161 non-null  object \n",
      " 15  15      20290 non-null  float64\n",
      " 16  16      22133 non-null  float64\n",
      " 17  17      22109 non-null  float64\n",
      " 18  18      21951 non-null  object \n",
      " 19  19      21141 non-null  object \n",
      " 20  20      20816 non-null  float64\n",
      " 21  21      22062 non-null  float64\n",
      " 22  22      22161 non-null  int64  \n",
      " 23  23      22061 non-null  float64\n",
      " 24  24      22061 non-null  float64\n",
      " 25  label   22161 non-null  int64  \n",
      "dtypes: float64(17), int64(3), object(6)\n",
      "memory usage: 4.4+ MB\n"
     ]
    }
   ],
   "source": [
    "df.info()"
   ]
  },
  {
   "cell_type": "code",
   "execution_count": 183,
   "metadata": {},
   "outputs": [
    {
     "data": {
      "text/html": [
       "<div>\n",
       "<style scoped>\n",
       "    .dataframe tbody tr th:only-of-type {\n",
       "        vertical-align: middle;\n",
       "    }\n",
       "\n",
       "    .dataframe tbody tr th {\n",
       "        vertical-align: top;\n",
       "    }\n",
       "\n",
       "    .dataframe thead th {\n",
       "        text-align: right;\n",
       "    }\n",
       "</style>\n",
       "<table border=\"1\" class=\"dataframe\">\n",
       "  <thead>\n",
       "    <tr style=\"text-align: right;\">\n",
       "      <th></th>\n",
       "      <th>0</th>\n",
       "      <th>1</th>\n",
       "      <th>2</th>\n",
       "      <th>3</th>\n",
       "      <th>4</th>\n",
       "      <th>7</th>\n",
       "      <th>8</th>\n",
       "      <th>9</th>\n",
       "      <th>10</th>\n",
       "      <th>11</th>\n",
       "      <th>12</th>\n",
       "      <th>15</th>\n",
       "      <th>16</th>\n",
       "      <th>17</th>\n",
       "      <th>20</th>\n",
       "      <th>21</th>\n",
       "      <th>22</th>\n",
       "      <th>23</th>\n",
       "      <th>24</th>\n",
       "      <th>label</th>\n",
       "    </tr>\n",
       "  </thead>\n",
       "  <tbody>\n",
       "    <tr>\n",
       "      <th>count</th>\n",
       "      <td>22161.000000</td>\n",
       "      <td>22161.000000</td>\n",
       "      <td>22161.000000</td>\n",
       "      <td>22102.000000</td>\n",
       "      <td>22057.000000</td>\n",
       "      <td>22154.000000</td>\n",
       "      <td>22143.000000</td>\n",
       "      <td>22161.000000</td>\n",
       "      <td>22161.000000</td>\n",
       "      <td>22055.000000</td>\n",
       "      <td>22048.000000</td>\n",
       "      <td>20290.000000</td>\n",
       "      <td>22133.000000</td>\n",
       "      <td>22109.000000</td>\n",
       "      <td>20816.000000</td>\n",
       "      <td>22062.000000</td>\n",
       "      <td>22161.000000</td>\n",
       "      <td>22061.000000</td>\n",
       "      <td>22061.000000</td>\n",
       "      <td>22161.000000</td>\n",
       "    </tr>\n",
       "    <tr>\n",
       "      <th>mean</th>\n",
       "      <td>2.185958</td>\n",
       "      <td>19.797754</td>\n",
       "      <td>4.929620</td>\n",
       "      <td>51.547009</td>\n",
       "      <td>68.497982</td>\n",
       "      <td>1.648476</td>\n",
       "      <td>0.888041</td>\n",
       "      <td>6.429358</td>\n",
       "      <td>0.228284</td>\n",
       "      <td>1015.347014</td>\n",
       "      <td>1017.708572</td>\n",
       "      <td>73.685017</td>\n",
       "      <td>21.617133</td>\n",
       "      <td>17.065837</td>\n",
       "      <td>39.995484</td>\n",
       "      <td>19.101577</td>\n",
       "      <td>2010.945264</td>\n",
       "      <td>146.971579</td>\n",
       "      <td>224.835441</td>\n",
       "      <td>0.236451</td>\n",
       "    </tr>\n",
       "    <tr>\n",
       "      <th>std</th>\n",
       "      <td>0.815080</td>\n",
       "      <td>10.763614</td>\n",
       "      <td>3.572644</td>\n",
       "      <td>20.184353</td>\n",
       "      <td>18.231315</td>\n",
       "      <td>0.480275</td>\n",
       "      <td>0.461375</td>\n",
       "      <td>3.381488</td>\n",
       "      <td>0.161565</td>\n",
       "      <td>7.011856</td>\n",
       "      <td>7.085807</td>\n",
       "      <td>37.866780</td>\n",
       "      <td>6.602743</td>\n",
       "      <td>6.409174</td>\n",
       "      <td>13.150807</td>\n",
       "      <td>8.546933</td>\n",
       "      <td>0.823740</td>\n",
       "      <td>86.609704</td>\n",
       "      <td>160.801099</td>\n",
       "      <td>0.424912</td>\n",
       "    </tr>\n",
       "    <tr>\n",
       "      <th>min</th>\n",
       "      <td>-0.490607</td>\n",
       "      <td>2.437300</td>\n",
       "      <td>0.000000</td>\n",
       "      <td>1.000000</td>\n",
       "      <td>3.000000</td>\n",
       "      <td>0.450000</td>\n",
       "      <td>-0.492857</td>\n",
       "      <td>1.000000</td>\n",
       "      <td>-0.195661</td>\n",
       "      <td>984.500000</td>\n",
       "      <td>983.700000</td>\n",
       "      <td>0.000000</td>\n",
       "      <td>3.900000</td>\n",
       "      <td>-0.700000</td>\n",
       "      <td>11.000000</td>\n",
       "      <td>0.000000</td>\n",
       "      <td>2010.000000</td>\n",
       "      <td>0.000000</td>\n",
       "      <td>0.001355</td>\n",
       "      <td>0.000000</td>\n",
       "    </tr>\n",
       "    <tr>\n",
       "      <th>25%</th>\n",
       "      <td>1.622068</td>\n",
       "      <td>12.268371</td>\n",
       "      <td>2.400000</td>\n",
       "      <td>37.000000</td>\n",
       "      <td>57.000000</td>\n",
       "      <td>1.271429</td>\n",
       "      <td>0.542857</td>\n",
       "      <td>3.000000</td>\n",
       "      <td>0.136002</td>\n",
       "      <td>1010.600000</td>\n",
       "      <td>1013.000000</td>\n",
       "      <td>45.000000</td>\n",
       "      <td>16.500000</td>\n",
       "      <td>12.100000</td>\n",
       "      <td>31.000000</td>\n",
       "      <td>13.000000</td>\n",
       "      <td>2010.000000</td>\n",
       "      <td>90.000000</td>\n",
       "      <td>100.144819</td>\n",
       "      <td>0.000000</td>\n",
       "    </tr>\n",
       "    <tr>\n",
       "      <th>50%</th>\n",
       "      <td>2.167701</td>\n",
       "      <td>17.833216</td>\n",
       "      <td>4.200000</td>\n",
       "      <td>52.000000</td>\n",
       "      <td>69.000000</td>\n",
       "      <td>1.607143</td>\n",
       "      <td>0.864286</td>\n",
       "      <td>7.000000</td>\n",
       "      <td>0.206457</td>\n",
       "      <td>1015.300000</td>\n",
       "      <td>1017.700000</td>\n",
       "      <td>82.000000</td>\n",
       "      <td>21.000000</td>\n",
       "      <td>16.600000</td>\n",
       "      <td>39.000000</td>\n",
       "      <td>19.000000</td>\n",
       "      <td>2011.000000</td>\n",
       "      <td>130.000000</td>\n",
       "      <td>199.866581</td>\n",
       "      <td>0.000000</td>\n",
       "    </tr>\n",
       "    <tr>\n",
       "      <th>75%</th>\n",
       "      <td>2.720341</td>\n",
       "      <td>25.196446</td>\n",
       "      <td>6.600000</td>\n",
       "      <td>65.000000</td>\n",
       "      <td>82.000000</td>\n",
       "      <td>2.007143</td>\n",
       "      <td>1.242857</td>\n",
       "      <td>9.000000</td>\n",
       "      <td>0.278929</td>\n",
       "      <td>1020.000000</td>\n",
       "      <td>1022.400000</td>\n",
       "      <td>104.000000</td>\n",
       "      <td>26.400000</td>\n",
       "      <td>21.800000</td>\n",
       "      <td>48.000000</td>\n",
       "      <td>24.000000</td>\n",
       "      <td>2012.000000</td>\n",
       "      <td>200.000000</td>\n",
       "      <td>316.118054</td>\n",
       "      <td>0.000000</td>\n",
       "    </tr>\n",
       "    <tr>\n",
       "      <th>max</th>\n",
       "      <td>9.092011</td>\n",
       "      <td>248.877854</td>\n",
       "      <td>81.200000</td>\n",
       "      <td>100.000000</td>\n",
       "      <td>100.000000</td>\n",
       "      <td>3.435714</td>\n",
       "      <td>2.128571</td>\n",
       "      <td>12.000000</td>\n",
       "      <td>0.954076</td>\n",
       "      <td>1038.900000</td>\n",
       "      <td>1040.900000</td>\n",
       "      <td>143.000000</td>\n",
       "      <td>46.100000</td>\n",
       "      <td>36.900000</td>\n",
       "      <td>135.000000</td>\n",
       "      <td>69.000000</td>\n",
       "      <td>2012.000000</td>\n",
       "      <td>670.000000</td>\n",
       "      <td>1426.459838</td>\n",
       "      <td>1.000000</td>\n",
       "    </tr>\n",
       "  </tbody>\n",
       "</table>\n",
       "</div>"
      ],
      "text/plain": [
       "                  0             1             2             3             4  \\\n",
       "count  22161.000000  22161.000000  22161.000000  22102.000000  22057.000000   \n",
       "mean       2.185958     19.797754      4.929620     51.547009     68.497982   \n",
       "std        0.815080     10.763614      3.572644     20.184353     18.231315   \n",
       "min       -0.490607      2.437300      0.000000      1.000000      3.000000   \n",
       "25%        1.622068     12.268371      2.400000     37.000000     57.000000   \n",
       "50%        2.167701     17.833216      4.200000     52.000000     69.000000   \n",
       "75%        2.720341     25.196446      6.600000     65.000000     82.000000   \n",
       "max        9.092011    248.877854     81.200000    100.000000    100.000000   \n",
       "\n",
       "                  7             8             9            10            11  \\\n",
       "count  22154.000000  22143.000000  22161.000000  22161.000000  22055.000000   \n",
       "mean       1.648476      0.888041      6.429358      0.228284   1015.347014   \n",
       "std        0.480275      0.461375      3.381488      0.161565      7.011856   \n",
       "min        0.450000     -0.492857      1.000000     -0.195661    984.500000   \n",
       "25%        1.271429      0.542857      3.000000      0.136002   1010.600000   \n",
       "50%        1.607143      0.864286      7.000000      0.206457   1015.300000   \n",
       "75%        2.007143      1.242857      9.000000      0.278929   1020.000000   \n",
       "max        3.435714      2.128571     12.000000      0.954076   1038.900000   \n",
       "\n",
       "                 12            15            16            17            20  \\\n",
       "count  22048.000000  20290.000000  22133.000000  22109.000000  20816.000000   \n",
       "mean    1017.708572     73.685017     21.617133     17.065837     39.995484   \n",
       "std        7.085807     37.866780      6.602743      6.409174     13.150807   \n",
       "min      983.700000      0.000000      3.900000     -0.700000     11.000000   \n",
       "25%     1013.000000     45.000000     16.500000     12.100000     31.000000   \n",
       "50%     1017.700000     82.000000     21.000000     16.600000     39.000000   \n",
       "75%     1022.400000    104.000000     26.400000     21.800000     48.000000   \n",
       "max     1040.900000    143.000000     46.100000     36.900000    135.000000   \n",
       "\n",
       "                 21            22            23            24         label  \n",
       "count  22062.000000  22161.000000  22061.000000  22061.000000  22161.000000  \n",
       "mean      19.101577   2010.945264    146.971579    224.835441      0.236451  \n",
       "std        8.546933      0.823740     86.609704    160.801099      0.424912  \n",
       "min        0.000000   2010.000000      0.000000      0.001355      0.000000  \n",
       "25%       13.000000   2010.000000     90.000000    100.144819      0.000000  \n",
       "50%       19.000000   2011.000000    130.000000    199.866581      0.000000  \n",
       "75%       24.000000   2012.000000    200.000000    316.118054      0.000000  \n",
       "max       69.000000   2012.000000    670.000000   1426.459838      1.000000  "
      ]
     },
     "execution_count": 183,
     "metadata": {},
     "output_type": "execute_result"
    }
   ],
   "source": [
    "df.describe()"
   ]
  },
  {
   "cell_type": "markdown",
   "metadata": {},
   "source": [
    "* We can already see that we have some categorial feature - we will check if they are ordinal and should be treated as 'labels' or to be one hot encoded.\n",
    "* we will have to clean column 14 (remove the mm) and convert it to float and maybe also clean column number 6\n",
    "* we can also see that column number 13 gets 0 or 1 - we will convert it to int"
   ]
  },
  {
   "cell_type": "code",
   "execution_count": 184,
   "metadata": {},
   "outputs": [],
   "source": [
    "# Removing the mm from column 14\n",
    "for idx, row in df.iterrows():\n",
    "    df.iloc[idx,14] = row[14][:-2]\n",
    "\n",
    "# let's convert this column to floats\n",
    "df['14'] = df['14'].astype(float)"
   ]
  },
  {
   "cell_type": "code",
   "execution_count": 185,
   "metadata": {},
   "outputs": [
    {
     "data": {
      "text/plain": [
       "0          0.762872\n",
       "1          0.233473\n",
       "unknown    0.003655\n",
       "Name: 13, dtype: float64"
      ]
     },
     "execution_count": 185,
     "metadata": {},
     "output_type": "execute_result"
    }
   ],
   "source": [
    "df['13'].value_counts(normalize=True)"
   ]
  },
  {
   "cell_type": "code",
   "execution_count": 186,
   "metadata": {},
   "outputs": [],
   "source": [
    "#Let' remove the 'unkwown' values and replace them with nan\n",
    "df.loc[df['13']=='unknown','13'] = np.nan\n",
    "# now let's convert it to floats\n",
    "df['13'] = df['13'].astype(float)"
   ]
  },
  {
   "cell_type": "code",
   "execution_count": 187,
   "metadata": {},
   "outputs": [
    {
     "data": {
      "text/plain": [
       "0        0.000000\n",
       "1        0.000000\n",
       "2        0.000000\n",
       "3        0.002662\n",
       "4        0.004693\n",
       "5        0.060873\n",
       "6        0.000000\n",
       "7        0.000316\n",
       "8        0.000812\n",
       "9        0.000000\n",
       "10       0.000000\n",
       "11       0.004783\n",
       "12       0.005099\n",
       "13       0.003655\n",
       "14       0.003655\n",
       "15       0.084428\n",
       "16       0.001263\n",
       "17       0.002346\n",
       "18       0.009476\n",
       "19       0.046027\n",
       "20       0.060692\n",
       "21       0.004467\n",
       "22       0.000000\n",
       "23       0.004512\n",
       "24       0.004512\n",
       "label    0.000000\n",
       "dtype: float64"
      ]
     },
     "execution_count": 187,
     "metadata": {},
     "output_type": "execute_result"
    }
   ],
   "source": [
    "# we will chekk the ratio of nulls in each column (feature)\n",
    "df.isnull().sum() /df.shape[0]"
   ]
  },
  {
   "cell_type": "markdown",
   "metadata": {},
   "source": [
    "* we might cosider deleting featute 15 since 8% of the data for this feature is missing. we will check how important it is later. "
   ]
  },
  {
   "cell_type": "code",
   "execution_count": 8,
   "metadata": {},
   "outputs": [
    {
     "data": {
      "text/plain": [
       "0        float64\n",
       "1        float64\n",
       "2        float64\n",
       "3        float64\n",
       "4        float64\n",
       "5         object\n",
       "6         object\n",
       "7        float64\n",
       "8        float64\n",
       "9          int64\n",
       "10       float64\n",
       "11       float64\n",
       "12       float64\n",
       "13       float64\n",
       "14       float64\n",
       "15       float64\n",
       "16       float64\n",
       "17       float64\n",
       "18        object\n",
       "19        object\n",
       "20       float64\n",
       "21       float64\n",
       "22         int64\n",
       "23       float64\n",
       "24       float64\n",
       "label      int64\n",
       "dtype: object"
      ]
     },
     "execution_count": 8,
     "metadata": {},
     "output_type": "execute_result"
    }
   ],
   "source": [
    "df.dtypes"
   ]
  },
  {
   "cell_type": "markdown",
   "metadata": {},
   "source": [
    "## Let's observe our categorical features"
   ]
  },
  {
   "cell_type": "code",
   "execution_count": 435,
   "metadata": {},
   "outputs": [
    {
     "data": {
      "text/plain": [
       "a0     768\n",
       "a1     768\n",
       "a10    280\n",
       "a11    767\n",
       "a12    771\n",
       "a13    661\n",
       "a14    753\n",
       "a15    778\n",
       "a16    753\n",
       "a17    766\n",
       "a18    780\n",
       "a19    762\n",
       "a2     719\n",
       "a20    755\n",
       "a21    550\n",
       "a22    773\n",
       "a23    750\n",
       "a24    691\n",
       "a25    770\n",
       "a26    756\n",
       "a27    762\n",
       "a28    779\n",
       "a29    779\n",
       "a3     769\n",
       "a30    762\n",
       "a4     417\n",
       "a5     764\n",
       "a6     786\n",
       "a7     785\n",
       "a8     503\n",
       "a9     684\n",
       "Name: 6, dtype: int64"
      ]
     },
     "execution_count": 435,
     "metadata": {},
     "output_type": "execute_result"
    }
   ],
   "source": [
    "df['6'].value_counts().sort_index()"
   ]
  },
  {
   "cell_type": "markdown",
   "metadata": {},
   "source": [
    "If we omit the 'a' from value in feature '6', we can see theat we will get number from 0 to 30. we'd want to check if this range has an oridal relation"
   ]
  },
  {
   "cell_type": "code",
   "execution_count": 188,
   "metadata": {},
   "outputs": [],
   "source": [
    "df_copy = df.copy()\n",
    "for idx, row in df_copy.iterrows():\n",
    "    df_copy.iloc[idx,6] = row[6][1:]\n",
    "    \n",
    "df_copy['6'] = df_copy['6'].astype(float)"
   ]
  },
  {
   "cell_type": "code",
   "execution_count": 189,
   "metadata": {},
   "outputs": [
    {
     "data": {
      "text/plain": [
       "<matplotlib.axes._subplots.AxesSubplot at 0x2713bec3490>"
      ]
     },
     "execution_count": 189,
     "metadata": {},
     "output_type": "execute_result"
    },
    {
     "data": {
      "image/png": "[encoded data removed]",
      "text/plain": [
       "<Figure size 1152x648 with 1 Axes>"
      ]
     },
     "metadata": {
      "needs_background": "light"
     },
     "output_type": "display_data"
    }
   ],
   "source": [
    "# Grouping feature '6' values and conduct mean will let us see if there's a trend by seeing the average of the target the ordered values. \n",
    "df_grouped = df_copy.groupby('6')['label'].mean().reset_index()\n",
    "plt.rcParams[\"figure.figsize\"] = [16,9]\n",
    "sns.barplot(x = '6',y='label', data=df_grouped)"
   ]
  },
  {
   "cell_type": "markdown",
   "metadata": {},
   "source": [
    "By this plot, it seems like there's no linear trend. Thus, we will leave this feature to be categorical and we perform one-hot encoding to it.\n"
   ]
  },
  {
   "cell_type": "markdown",
   "metadata": {},
   "source": [
    "We will do the same for feature '5'. in this feature, the values are the letters A to P. we will look for ordinal relation"
   ]
  },
  {
   "cell_type": "code",
   "execution_count": 190,
   "metadata": {},
   "outputs": [
    {
     "data": {
      "text/plain": [
       "A    1097\n",
       "B    1432\n",
       "C    1330\n",
       "D    1604\n",
       "E    1558\n",
       "F    1575\n",
       "G     952\n",
       "H    1010\n",
       "I    1485\n",
       "J     910\n",
       "K    1469\n",
       "L    1337\n",
       "M    1239\n",
       "N    1098\n",
       "O    1241\n",
       "P    1475\n",
       "Name: 5, dtype: int64"
      ]
     },
     "execution_count": 190,
     "metadata": {},
     "output_type": "execute_result"
    }
   ],
   "source": [
    "df['5'].value_counts().sort_index()"
   ]
  },
  {
   "cell_type": "code",
   "execution_count": 191,
   "metadata": {},
   "outputs": [
    {
     "data": {
      "text/plain": [
       "<matplotlib.axes._subplots.AxesSubplot at 0x271332a1a00>"
      ]
     },
     "execution_count": 191,
     "metadata": {},
     "output_type": "execute_result"
    },
    {
     "data": {
      "image/png": "[encoded data removed]",
      "text/plain": [
       "<Figure size 1152x648 with 1 Axes>"
      ]
     },
     "metadata": {
      "needs_background": "light"
     },
     "output_type": "display_data"
    }
   ],
   "source": [
    "df5 = df.groupby('5')['label'].mean().reset_index()\n",
    "sns.barplot(x='5',y='label',data=df5)"
   ]
  },
  {
   "cell_type": "code",
   "execution_count": 192,
   "metadata": {},
   "outputs": [
    {
     "data": {
      "text/plain": [
       "<matplotlib.axes._subplots.AxesSubplot at 0x271339e4df0>"
      ]
     },
     "execution_count": 192,
     "metadata": {},
     "output_type": "execute_result"
    },
    {
     "data": {
      "image/png": "[encoded data removed]",
      "text/plain": [
       "<Figure size 1152x648 with 1 Axes>"
      ]
     },
     "metadata": {
      "needs_background": "light"
     },
     "output_type": "display_data"
    }
   ],
   "source": [
    "df18 = df.groupby('18')['label'].mean().reset_index()\n",
    "sns.barplot(x='18',y='label',data=df18)"
   ]
  },
  {
   "cell_type": "code",
   "execution_count": 193,
   "metadata": {},
   "outputs": [
    {
     "data": {
      "text/plain": [
       "<matplotlib.axes._subplots.AxesSubplot at 0x271339e5f10>"
      ]
     },
     "execution_count": 193,
     "metadata": {},
     "output_type": "execute_result"
    },
    {
     "data": {
      "image/png": "[encoded data removed]",
      "text/plain": [
       "<Figure size 1152x648 with 1 Axes>"
      ]
     },
     "metadata": {
      "needs_background": "light"
     },
     "output_type": "display_data"
    }
   ],
   "source": [
    "df19 = df.groupby('19')['label'].mean().reset_index()\n",
    "sns.barplot(x='19',y='label',data=df19)"
   ]
  },
  {
   "cell_type": "markdown",
   "metadata": {},
   "source": [
    "## As it seems, none of the categorial feature shows ordinal connection. we will perform one hot encoding to them rather than use labels (that can confuse with their numeric order)"
   ]
  },
  {
   "cell_type": "markdown",
   "metadata": {},
   "source": [
    "Now we will look at the correlation plot. We will look for correlated features that will be redundent to use and will observe the correlation of each feature with the label"
   ]
  },
  {
   "cell_type": "code",
   "execution_count": 194,
   "metadata": {},
   "outputs": [
    {
     "data": {
      "text/plain": [
       "<matplotlib.axes._subplots.AxesSubplot at 0x27143bd16d0>"
      ]
     },
     "execution_count": 194,
     "metadata": {},
     "output_type": "execute_result"
    },
    {
     "data": {
      "image/png": "[encoded data removed]",
      "text/plain": [
       "<Figure size 1440x1080 with 2 Axes>"
      ]
     },
     "metadata": {
      "needs_background": "light"
     },
     "output_type": "display_data"
    }
   ],
   "source": [
    "corr = df.corr()\n",
    "mask = np.triu(np.ones_like(corr, dtype=np.bool))\n",
    "f, ax = plt.subplots(figsize=(20, 15))\n",
    "cmap = sns.diverging_palette(220, 10, as_cmap=True)\n",
    "sns.heatmap(corr, mask=mask, cmap=cmap, center=0,annot=True,\n",
    "            square=True, linewidths=.5, cbar_kws={\"shrink\": .5})"
   ]
  },
  {
   "cell_type": "markdown",
   "metadata": {},
   "source": [
    "Some features are perfectly/ highly correlated. We will omit some of them later"
   ]
  },
  {
   "cell_type": "code",
   "execution_count": 195,
   "metadata": {},
   "outputs": [
    {
     "data": {
      "text/html": [
       "<div>\n",
       "<style scoped>\n",
       "    .dataframe tbody tr th:only-of-type {\n",
       "        vertical-align: middle;\n",
       "    }\n",
       "\n",
       "    .dataframe tbody tr th {\n",
       "        vertical-align: top;\n",
       "    }\n",
       "\n",
       "    .dataframe thead th {\n",
       "        text-align: right;\n",
       "    }\n",
       "</style>\n",
       "<table border=\"1\" class=\"dataframe\">\n",
       "  <thead>\n",
       "    <tr style=\"text-align: right;\">\n",
       "      <th></th>\n",
       "      <th>0</th>\n",
       "      <th>1</th>\n",
       "      <th>2</th>\n",
       "      <th>3</th>\n",
       "      <th>4</th>\n",
       "      <th>5</th>\n",
       "      <th>6</th>\n",
       "      <th>7</th>\n",
       "      <th>8</th>\n",
       "      <th>9</th>\n",
       "      <th>10</th>\n",
       "      <th>11</th>\n",
       "      <th>12</th>\n",
       "      <th>13</th>\n",
       "      <th>14</th>\n",
       "      <th>15</th>\n",
       "      <th>16</th>\n",
       "      <th>17</th>\n",
       "      <th>18</th>\n",
       "      <th>19</th>\n",
       "      <th>20</th>\n",
       "      <th>21</th>\n",
       "      <th>22</th>\n",
       "      <th>23</th>\n",
       "      <th>24</th>\n",
       "      <th>label</th>\n",
       "    </tr>\n",
       "  </thead>\n",
       "  <tbody>\n",
       "  </tbody>\n",
       "</table>\n",
       "</div>"
      ],
      "text/plain": [
       "Empty DataFrame\n",
       "Columns: [0, 1, 2, 3, 4, 5, 6, 7, 8, 9, 10, 11, 12, 13, 14, 15, 16, 17, 18, 19, 20, 21, 22, 23, 24, label]\n",
       "Index: []"
      ]
     },
     "execution_count": 195,
     "metadata": {},
     "output_type": "execute_result"
    }
   ],
   "source": [
    "# we checked for redundent duplicate rows in the data. \n",
    "# seems like we dont have any\n",
    "df[df.duplicated()]"
   ]
  },
  {
   "cell_type": "markdown",
   "metadata": {},
   "source": [
    "## We'd want to get to know our features better- to see how they distribute, if they are skewed and if there are outliers that we might want to ignore. we will plot boxplots and histograms for the numerical features"
   ]
  },
  {
   "cell_type": "code",
   "execution_count": 197,
   "metadata": {},
   "outputs": [],
   "source": [
    "#get list of numerical columns\n",
    "no_string_columns = []\n",
    "for col in range(0,len(df.columns)):\n",
    "    if(type(df.iloc[0,col])!=str):\n",
    "        no_string_columns.append(col)"
   ]
  },
  {
   "cell_type": "code",
   "execution_count": 198,
   "metadata": {},
   "outputs": [
    {
     "data": {
      "text/html": [
       "<div>\n",
       "<style scoped>\n",
       "    .dataframe tbody tr th:only-of-type {\n",
       "        vertical-align: middle;\n",
       "    }\n",
       "\n",
       "    .dataframe tbody tr th {\n",
       "        vertical-align: top;\n",
       "    }\n",
       "\n",
       "    .dataframe thead th {\n",
       "        text-align: right;\n",
       "    }\n",
       "</style>\n",
       "<table border=\"1\" class=\"dataframe\">\n",
       "  <thead>\n",
       "    <tr style=\"text-align: right;\">\n",
       "      <th></th>\n",
       "      <th>0</th>\n",
       "      <th>1</th>\n",
       "      <th>2</th>\n",
       "      <th>3</th>\n",
       "      <th>4</th>\n",
       "      <th>7</th>\n",
       "      <th>8</th>\n",
       "      <th>9</th>\n",
       "      <th>10</th>\n",
       "      <th>11</th>\n",
       "      <th>12</th>\n",
       "      <th>13</th>\n",
       "      <th>14</th>\n",
       "      <th>15</th>\n",
       "      <th>16</th>\n",
       "      <th>17</th>\n",
       "      <th>20</th>\n",
       "      <th>21</th>\n",
       "      <th>22</th>\n",
       "      <th>23</th>\n",
       "      <th>24</th>\n",
       "      <th>label</th>\n",
       "    </tr>\n",
       "  </thead>\n",
       "  <tbody>\n",
       "    <tr>\n",
       "      <th>0</th>\n",
       "      <td>1.170981</td>\n",
       "      <td>5.672133</td>\n",
       "      <td>0.6</td>\n",
       "      <td>80.0</td>\n",
       "      <td>76.0</td>\n",
       "      <td>1.107143</td>\n",
       "      <td>0.692857</td>\n",
       "      <td>5</td>\n",
       "      <td>0.702957</td>\n",
       "      <td>1024.1</td>\n",
       "      <td>1025.9</td>\n",
       "      <td>0.0</td>\n",
       "      <td>0.6</td>\n",
       "      <td>32.0</td>\n",
       "      <td>13.9</td>\n",
       "      <td>12.2</td>\n",
       "      <td>28.0</td>\n",
       "      <td>7.0</td>\n",
       "      <td>2011</td>\n",
       "      <td>40.0</td>\n",
       "      <td>15.420787</td>\n",
       "      <td>1</td>\n",
       "    </tr>\n",
       "    <tr>\n",
       "      <th>1</th>\n",
       "      <td>2.595788</td>\n",
       "      <td>23.203289</td>\n",
       "      <td>6.4</td>\n",
       "      <td>43.0</td>\n",
       "      <td>64.0</td>\n",
       "      <td>1.700000</td>\n",
       "      <td>0.614286</td>\n",
       "      <td>11</td>\n",
       "      <td>0.223911</td>\n",
       "      <td>1005.3</td>\n",
       "      <td>1008.1</td>\n",
       "      <td>0.0</td>\n",
       "      <td>0.0</td>\n",
       "      <td>50.0</td>\n",
       "      <td>18.6</td>\n",
       "      <td>16.5</td>\n",
       "      <td>61.0</td>\n",
       "      <td>43.0</td>\n",
       "      <td>2012</td>\n",
       "      <td>110.0</td>\n",
       "      <td>240.496883</td>\n",
       "      <td>0</td>\n",
       "    </tr>\n",
       "    <tr>\n",
       "      <th>2</th>\n",
       "      <td>0.972794</td>\n",
       "      <td>7.127348</td>\n",
       "      <td>0.4</td>\n",
       "      <td>63.0</td>\n",
       "      <td>100.0</td>\n",
       "      <td>1.242857</td>\n",
       "      <td>0.428571</td>\n",
       "      <td>6</td>\n",
       "      <td>0.180848</td>\n",
       "      <td>1020.8</td>\n",
       "      <td>1026.5</td>\n",
       "      <td>0.0</td>\n",
       "      <td>0.0</td>\n",
       "      <td>NaN</td>\n",
       "      <td>16.5</td>\n",
       "      <td>9.6</td>\n",
       "      <td>15.0</td>\n",
       "      <td>7.0</td>\n",
       "      <td>2012</td>\n",
       "      <td>0.0</td>\n",
       "      <td>224.282903</td>\n",
       "      <td>0</td>\n",
       "    </tr>\n",
       "    <tr>\n",
       "      <th>3</th>\n",
       "      <td>1.891667</td>\n",
       "      <td>17.881507</td>\n",
       "      <td>4.2</td>\n",
       "      <td>65.0</td>\n",
       "      <td>71.0</td>\n",
       "      <td>1.050000</td>\n",
       "      <td>0.671429</td>\n",
       "      <td>10</td>\n",
       "      <td>0.181289</td>\n",
       "      <td>1021.9</td>\n",
       "      <td>1019.8</td>\n",
       "      <td>0.0</td>\n",
       "      <td>0.8</td>\n",
       "      <td>88.0</td>\n",
       "      <td>14.2</td>\n",
       "      <td>11.4</td>\n",
       "      <td>39.0</td>\n",
       "      <td>24.0</td>\n",
       "      <td>2010</td>\n",
       "      <td>130.0</td>\n",
       "      <td>86.810830</td>\n",
       "      <td>0</td>\n",
       "    </tr>\n",
       "    <tr>\n",
       "      <th>4</th>\n",
       "      <td>1.965881</td>\n",
       "      <td>13.936969</td>\n",
       "      <td>3.2</td>\n",
       "      <td>40.0</td>\n",
       "      <td>62.0</td>\n",
       "      <td>1.950000</td>\n",
       "      <td>1.085714</td>\n",
       "      <td>3</td>\n",
       "      <td>0.237347</td>\n",
       "      <td>1005.3</td>\n",
       "      <td>1007.8</td>\n",
       "      <td>0.0</td>\n",
       "      <td>0.0</td>\n",
       "      <td>112.0</td>\n",
       "      <td>26.6</td>\n",
       "      <td>23.4</td>\n",
       "      <td>30.0</td>\n",
       "      <td>20.0</td>\n",
       "      <td>2011</td>\n",
       "      <td>0.0</td>\n",
       "      <td>120.642922</td>\n",
       "      <td>0</td>\n",
       "    </tr>\n",
       "  </tbody>\n",
       "</table>\n",
       "</div>"
      ],
      "text/plain": [
       "          0          1    2     3      4         7         8   9        10  \\\n",
       "0  1.170981   5.672133  0.6  80.0   76.0  1.107143  0.692857   5  0.702957   \n",
       "1  2.595788  23.203289  6.4  43.0   64.0  1.700000  0.614286  11  0.223911   \n",
       "2  0.972794   7.127348  0.4  63.0  100.0  1.242857  0.428571   6  0.180848   \n",
       "3  1.891667  17.881507  4.2  65.0   71.0  1.050000  0.671429  10  0.181289   \n",
       "4  1.965881  13.936969  3.2  40.0   62.0  1.950000  1.085714   3  0.237347   \n",
       "\n",
       "       11      12   13   14     15    16    17    20    21    22     23  \\\n",
       "0  1024.1  1025.9  0.0  0.6   32.0  13.9  12.2  28.0   7.0  2011   40.0   \n",
       "1  1005.3  1008.1  0.0  0.0   50.0  18.6  16.5  61.0  43.0  2012  110.0   \n",
       "2  1020.8  1026.5  0.0  0.0    NaN  16.5   9.6  15.0   7.0  2012    0.0   \n",
       "3  1021.9  1019.8  0.0  0.8   88.0  14.2  11.4  39.0  24.0  2010  130.0   \n",
       "4  1005.3  1007.8  0.0  0.0  112.0  26.6  23.4  30.0  20.0  2011    0.0   \n",
       "\n",
       "           24  label  \n",
       "0   15.420787      1  \n",
       "1  240.496883      0  \n",
       "2  224.282903      0  \n",
       "3   86.810830      0  \n",
       "4  120.642922      0  "
      ]
     },
     "execution_count": 198,
     "metadata": {},
     "output_type": "execute_result"
    }
   ],
   "source": [
    "df.iloc[:,no_string_columns].head()"
   ]
  },
  {
   "cell_type": "code",
   "execution_count": 199,
   "metadata": {},
   "outputs": [
    {
     "data": {
      "image/png": "[encoded data removed]",
      "text/plain": [
       "<Figure size 2160x2160 with 20 Axes>"
      ]
     },
     "metadata": {
      "needs_background": "light"
     },
     "output_type": "display_data"
    }
   ],
   "source": [
    "fig = plt.figure(figsize=(30,30))\n",
    "fig.subplots_adjust(hspace=0.4, wspace=0.4)\n",
    "plot_num=1\n",
    "for feature in df.iloc[:,no_string_columns].columns:\n",
    "    if((feature=='22') | (feature=='label')): # in the list of feature- 22 and 19 are the year and the label (we're not intrested in their boxplot)\n",
    "        continue\n",
    "    ax = fig.add_subplot(5,5,plot_num)\n",
    "    plot_num+=1\n",
    "    feature = int(feature)\n",
    "    sns.boxplot(df.iloc[:,feature],orient='v')\n",
    "    ax.set(title = 'feature number :' + (df.columns[feature]))"
   ]
  },
  {
   "cell_type": "code",
   "execution_count": 200,
   "metadata": {},
   "outputs": [
    {
     "data": {
      "image/png": "[encoded data removed]",
      "text/plain": [
       "<Figure size 2160x2160 with 20 Axes>"
      ]
     },
     "metadata": {
      "needs_background": "light"
     },
     "output_type": "display_data"
    }
   ],
   "source": [
    "fig = plt.figure(figsize=(30,30))\n",
    "fig.subplots_adjust(hspace=0.4, wspace=0.4)\n",
    "plot_num=1\n",
    "for feature in df.iloc[:,no_string_columns].columns:\n",
    "    if((feature=='22') | (feature=='label')): # in the list of feature- 16 and 19 are the year and label (we're not intrested in their boxplot)\n",
    "        continue\n",
    "    ax = fig.add_subplot(5,5,plot_num)\n",
    "    plot_num+=1\n",
    "    feature = int(feature)\n",
    "    sns.distplot(df.iloc[:,feature],kde=False)\n",
    "    ax.set(title = 'feature number :' + (df.columns[feature]))"
   ]
  },
  {
   "cell_type": "markdown",
   "metadata": {},
   "source": [
    "## The boxplot might have given us the idea that we have many outliers but in the histograms we see that many of the futures are skewed"
   ]
  },
  {
   "cell_type": "markdown",
   "metadata": {},
   "source": [
    "# Feature creation, selection and dimensionality reduction"
   ]
  },
  {
   "cell_type": "markdown",
   "metadata": {},
   "source": [
    "## We can clearly see the feature 10 is a bimodal (it has two modes). We'd want to distingush between those 2 centers so we will add a binary features that classifies each sample by each group (center)"
   ]
  },
  {
   "cell_type": "code",
   "execution_count": 201,
   "metadata": {},
   "outputs": [
    {
     "data": {
      "text/plain": [
       "<matplotlib.axes._subplots.AxesSubplot at 0x27133e01100>"
      ]
     },
     "execution_count": 201,
     "metadata": {},
     "output_type": "execute_result"
    },
    {
     "data": {
      "image/png": "[encoded data removed]",
      "text/plain": [
       "<Figure size 1152x648 with 1 Axes>"
      ]
     },
     "metadata": {
      "needs_background": "light"
     },
     "output_type": "display_data"
    }
   ],
   "source": [
    "sns.distplot(df.loc[:,'10'], bins=100)"
   ]
  },
  {
   "cell_type": "markdown",
   "metadata": {},
   "source": [
    "We get to mode that are centered by two means. we will use kmean in order to clasify the data to those two centers"
   ]
  },
  {
   "cell_type": "code",
   "execution_count": 202,
   "metadata": {},
   "outputs": [
    {
     "data": {
      "text/plain": [
       "array([[0.19926957],\n",
       "       [0.79352485]])"
      ]
     },
     "execution_count": 202,
     "metadata": {},
     "output_type": "execute_result"
    }
   ],
   "source": [
    "# we can clearly see in the plot that the number of mean should be 2 \n",
    "k_means = KMeans(2)\n",
    "k_means.fit(df.loc[:,'10'].to_numpy().reshape(-1,1))\n",
    "k_means.cluster_centers_"
   ]
  },
  {
   "cell_type": "markdown",
   "metadata": {},
   "source": [
    "## We will create a new feature that classifies each row to one of the two centers"
   ]
  },
  {
   "cell_type": "code",
   "execution_count": 203,
   "metadata": {},
   "outputs": [],
   "source": [
    "df['10_binary'] = k_means.predict(df.loc[:,'10'].to_numpy().reshape(-1,1))\n",
    "#we want to keep the label column last (just for our conveniece)\n",
    "cols = df.columns.tolist()\n",
    "cols = cols[-1:] + cols[:-1]\n",
    "df = df[cols]\n",
    "\n",
    "# After running some tests, we discovered that dropping feature 10 gives better results ('10_binary holds enough information and highly correlated with feature '10)\n",
    "df = df.drop(columns=['10'])\n"
   ]
  },
  {
   "cell_type": "code",
   "execution_count": 204,
   "metadata": {},
   "outputs": [
    {
     "data": {
      "text/plain": [
       "1     1963\n",
       "2     1828\n",
       "3     1966\n",
       "4     1295\n",
       "5     2016\n",
       "6     1974\n",
       "7     1987\n",
       "8     1992\n",
       "9     1949\n",
       "10    1943\n",
       "11    1932\n",
       "12    1316\n",
       "Name: 9, dtype: int64"
      ]
     },
     "execution_count": 204,
     "metadata": {},
     "output_type": "execute_result"
    }
   ],
   "source": [
    "# from the plots, we clearly see that feature number 9 is numerical but doesn't look continues. let check it's value counts\n",
    "df.loc[:,'9'].value_counts().sort_index() # seems like a 'Month' column (discrete values from 1 to 12)"
   ]
  },
  {
   "cell_type": "markdown",
   "metadata": {},
   "source": [
    "We can see that feature number 9 descrete so we might treat it as a categorial feature. Also, in the correlation plot we see that there is no correlation with the label.Thus, we will treat it as a categorial feature"
   ]
  },
  {
   "cell_type": "markdown",
   "metadata": {},
   "source": [
    "we can also see from the histogram and from the correlation heat map, that some feature are highly correlated and are distributed the same.\n",
    "therefore, we can omit those identical features since they won't provide us new information.\n",
    "those identical features are\n",
    "* 0 & 1 & 2 # while 1&2 have perfect corr (of 1)\n",
    "* 7 & 16\n",
    "* 11 & 12\n",
    "* 8 & 17"
   ]
  },
  {
   "cell_type": "markdown",
   "metadata": {},
   "source": [
    "## Droping correlated features"
   ]
  },
  {
   "cell_type": "code",
   "execution_count": 205,
   "metadata": {},
   "outputs": [],
   "source": [
    "# we aren't dropping features '11'/'12' since we got better results by leaving both of them\n",
    "df = df.drop(columns=['1'])\n",
    "df = df.drop(columns=['17'])\n",
    "df = df.drop(columns=['0'])\n",
    "df = df.drop(columns=['16'])"
   ]
  },
  {
   "cell_type": "code",
   "execution_count": 206,
   "metadata": {},
   "outputs": [],
   "source": [
    "# We will perform one hot encoding for the categorical features\n",
    "one_hot = pd.get_dummies(df['5'])\n",
    "df = df.join(one_hot.add_suffix('_F5'))\n",
    "one_hot = pd.get_dummies(df['6'])\n",
    "df = df.join(one_hot.add_suffix('_F6'))\n",
    "one_hot = pd.get_dummies(df['18'])\n",
    "df = df.join(one_hot.add_suffix('_F18'))\n",
    "one_hot = pd.get_dummies(df['19'])\n",
    "df = df.join(one_hot.add_suffix('_F19'))\n",
    "one_hot = pd.get_dummies(df['22'])\n",
    "df = df.join(one_hot)\n",
    "one_hot = pd.get_dummies(df['9'])\n",
    "df = df.join(one_hot.add_suffix('_Month'))\n",
    "df = df.drop(columns=['5','6','18','19','22','9'])"
   ]
  },
  {
   "cell_type": "markdown",
   "metadata": {},
   "source": [
    "## We will check the nulls ratio for all the features"
   ]
  },
  {
   "cell_type": "code",
   "execution_count": 3,
   "metadata": {},
   "outputs": [
    {
     "data": {
      "text/plain": [
       "0        0.000000\n",
       "1        0.000000\n",
       "2        0.000000\n",
       "3        0.002662\n",
       "4        0.004693\n",
       "5        0.060873\n",
       "6        0.000000\n",
       "7        0.000316\n",
       "8        0.000812\n",
       "9        0.000000\n",
       "10       0.000000\n",
       "11       0.004783\n",
       "12       0.005099\n",
       "13       0.000000\n",
       "14       0.000000\n",
       "15       0.084428\n",
       "16       0.001263\n",
       "17       0.002346\n",
       "18       0.009476\n",
       "19       0.046027\n",
       "20       0.060692\n",
       "21       0.004467\n",
       "22       0.000000\n",
       "23       0.004512\n",
       "24       0.004512\n",
       "label    0.000000\n",
       "dtype: float64"
      ]
     },
     "execution_count": 3,
     "metadata": {},
     "output_type": "execute_result"
    }
   ],
   "source": [
    "# We can see that features '15' and '20' have many nulls ~8.5 and 6 %. though, we wouldnt want to drop them because with see that they are \n",
    "# highly correlated with the Label (in the correlation heat map)\n",
    "df.isnull().sum() /df.shape[0]"
   ]
  },
  {
   "cell_type": "markdown",
   "metadata": {},
   "source": [
    "By the way that feature '15' distributes, it seems like it would be a mistake to remove outlier (there are many values in the very left edge- the values zero)\n",
    "We will just fill up the missing values by using the mean of the feature"
   ]
  },
  {
   "cell_type": "code",
   "execution_count": 208,
   "metadata": {},
   "outputs": [],
   "source": [
    "df['15'] = df['15'].fillna(df['15'].mean())"
   ]
  },
  {
   "cell_type": "markdown",
   "metadata": {},
   "source": [
    "In feature '20' we will clean outliers (the 3rd and 97th quantiles) and we will fill up the missing values with the mean"
   ]
  },
  {
   "cell_type": "code",
   "execution_count": 209,
   "metadata": {},
   "outputs": [],
   "source": [
    "q= df['20'].quantile(0.03)\n",
    "q2 = df['20'].quantile(0.97)\n",
    "df = df[(df['20']>q)&(df['20']<q2)]\n",
    "df['20'] = df['20'].fillna(df['20'].mean())"
   ]
  },
  {
   "cell_type": "markdown",
   "metadata": {},
   "source": [
    "The number of missing values that is left now is very small. we won't fill up the missing values. what we will do is just droping\n",
    "the rows with the missing values (since it gave better results)"
   ]
  },
  {
   "cell_type": "markdown",
   "metadata": {},
   "source": [
    "## Dimentinality reduction using PCA. We want to reduct the dimention of the group of sparse features (the one hot encoded ones) "
   ]
  },
  {
   "cell_type": "code",
   "execution_count": 210,
   "metadata": {},
   "outputs": [
    {
     "data": {
      "text/plain": [
       "Index([   'label',     'A_F5',     'B_F5',     'C_F5',     'D_F5',     'E_F5',\n",
       "           'F_F5',     'G_F5',     'H_F5',     'I_F5',     'J_F5',     'K_F5',\n",
       "           'L_F5',     'M_F5',     'N_F5',     'O_F5',     'P_F5',    'a0_F6',\n",
       "          'a1_F6',   'a10_F6',   'a11_F6',   'a12_F6',   'a13_F6',   'a14_F6',\n",
       "         'a15_F6',   'a16_F6',   'a17_F6',   'a18_F6',   'a19_F6',    'a2_F6',\n",
       "         'a20_F6',   'a21_F6',   'a22_F6',   'a23_F6',   'a24_F6',   'a25_F6',\n",
       "         'a26_F6',   'a27_F6',   'a28_F6',   'a29_F6',    'a3_F6',   'a30_F6',\n",
       "          'a4_F6',    'a5_F6',    'a6_F6',    'a7_F6',    'a8_F6',    'a9_F6',\n",
       "          'A_F18',    'B_F18',    'C_F18',    'D_F18',    'E_F18',    'F_F18',\n",
       "          'G_F18',    'H_F18',    'I_F18',    'J_F18',    'K_F18',    'L_F18',\n",
       "          'M_F18',    'N_F18',    'O_F18',    'P_F18',    'A_F19',    'B_F19',\n",
       "          'C_F19',    'D_F19',    'E_F19',    'F_F19',    'G_F19',    'H_F19',\n",
       "          'I_F19',    'J_F19',    'K_F19',    'L_F19',    'M_F19',    'N_F19',\n",
       "          'O_F19',    'P_F19',       2010,       2011,       2012,  '1_Month',\n",
       "        '2_Month',  '3_Month',  '4_Month',  '5_Month',  '6_Month',  '7_Month',\n",
       "        '8_Month',  '9_Month', '10_Month', '11_Month', '12_Month'],\n",
       "      dtype='object')"
      ]
     },
     "execution_count": 210,
     "metadata": {},
     "output_type": "execute_result"
    }
   ],
   "source": [
    "df.columns[15:]"
   ]
  },
  {
   "cell_type": "code",
   "execution_count": 211,
   "metadata": {},
   "outputs": [],
   "source": [
    "# we will try to reduce the 36 matrix of sparse feature to 15 components (we tried different numbers of components)\n",
    "pca = PCA(n_components=15)\n",
    "df_sparse_features = df[df.columns[16:]]\n",
    "df_sparse_features = pd.DataFrame(pca.fit_transform(df_sparse_features))\n",
    "df_sparse_features = df_sparse_features.add_suffix('_pca')\n",
    "# join the components to the numerical features (and the label)\n",
    "df_pca = df[df.columns[:16]]\n",
    "df_pca = df_pca.join(df_sparse_features)"
   ]
  },
  {
   "cell_type": "code",
   "execution_count": 212,
   "metadata": {},
   "outputs": [
    {
     "data": {
      "text/html": [
       "<div>\n",
       "<style scoped>\n",
       "    .dataframe tbody tr th:only-of-type {\n",
       "        vertical-align: middle;\n",
       "    }\n",
       "\n",
       "    .dataframe tbody tr th {\n",
       "        vertical-align: top;\n",
       "    }\n",
       "\n",
       "    .dataframe thead th {\n",
       "        text-align: right;\n",
       "    }\n",
       "</style>\n",
       "<table border=\"1\" class=\"dataframe\">\n",
       "  <thead>\n",
       "    <tr style=\"text-align: right;\">\n",
       "      <th></th>\n",
       "      <th>10_binary</th>\n",
       "      <th>2</th>\n",
       "      <th>3</th>\n",
       "      <th>4</th>\n",
       "      <th>7</th>\n",
       "      <th>8</th>\n",
       "      <th>11</th>\n",
       "      <th>12</th>\n",
       "      <th>13</th>\n",
       "      <th>14</th>\n",
       "      <th>15</th>\n",
       "      <th>20</th>\n",
       "      <th>21</th>\n",
       "      <th>23</th>\n",
       "      <th>24</th>\n",
       "      <th>label</th>\n",
       "      <th>0_pca</th>\n",
       "      <th>1_pca</th>\n",
       "      <th>2_pca</th>\n",
       "      <th>3_pca</th>\n",
       "      <th>4_pca</th>\n",
       "      <th>5_pca</th>\n",
       "      <th>6_pca</th>\n",
       "      <th>7_pca</th>\n",
       "      <th>8_pca</th>\n",
       "      <th>9_pca</th>\n",
       "      <th>10_pca</th>\n",
       "      <th>11_pca</th>\n",
       "      <th>12_pca</th>\n",
       "      <th>13_pca</th>\n",
       "      <th>14_pca</th>\n",
       "    </tr>\n",
       "  </thead>\n",
       "  <tbody>\n",
       "    <tr>\n",
       "      <th>0</th>\n",
       "      <td>1</td>\n",
       "      <td>0.6</td>\n",
       "      <td>80.0</td>\n",
       "      <td>76.0</td>\n",
       "      <td>1.107143</td>\n",
       "      <td>0.692857</td>\n",
       "      <td>1024.1</td>\n",
       "      <td>1025.9</td>\n",
       "      <td>0.0</td>\n",
       "      <td>0.6</td>\n",
       "      <td>32.0</td>\n",
       "      <td>28.0</td>\n",
       "      <td>7.0</td>\n",
       "      <td>40.0</td>\n",
       "      <td>15.420787</td>\n",
       "      <td>1</td>\n",
       "      <td>-0.449960</td>\n",
       "      <td>-0.676932</td>\n",
       "      <td>-0.358179</td>\n",
       "      <td>0.808269</td>\n",
       "      <td>-0.238374</td>\n",
       "      <td>-0.478220</td>\n",
       "      <td>0.790094</td>\n",
       "      <td>0.147134</td>\n",
       "      <td>-0.433307</td>\n",
       "      <td>-0.120838</td>\n",
       "      <td>0.195316</td>\n",
       "      <td>0.029825</td>\n",
       "      <td>-0.397723</td>\n",
       "      <td>0.527927</td>\n",
       "      <td>-0.133304</td>\n",
       "    </tr>\n",
       "    <tr>\n",
       "      <th>1</th>\n",
       "      <td>0</td>\n",
       "      <td>6.4</td>\n",
       "      <td>43.0</td>\n",
       "      <td>64.0</td>\n",
       "      <td>1.700000</td>\n",
       "      <td>0.614286</td>\n",
       "      <td>1005.3</td>\n",
       "      <td>1008.1</td>\n",
       "      <td>0.0</td>\n",
       "      <td>0.0</td>\n",
       "      <td>50.0</td>\n",
       "      <td>61.0</td>\n",
       "      <td>43.0</td>\n",
       "      <td>110.0</td>\n",
       "      <td>240.496883</td>\n",
       "      <td>0</td>\n",
       "      <td>-0.435826</td>\n",
       "      <td>0.728481</td>\n",
       "      <td>-0.277953</td>\n",
       "      <td>-0.041164</td>\n",
       "      <td>-0.250448</td>\n",
       "      <td>0.367522</td>\n",
       "      <td>-0.340607</td>\n",
       "      <td>-0.257784</td>\n",
       "      <td>-0.332564</td>\n",
       "      <td>-0.621169</td>\n",
       "      <td>-0.434589</td>\n",
       "      <td>0.156341</td>\n",
       "      <td>0.296310</td>\n",
       "      <td>-0.207144</td>\n",
       "      <td>-0.009309</td>\n",
       "    </tr>\n",
       "    <tr>\n",
       "      <th>3</th>\n",
       "      <td>0</td>\n",
       "      <td>4.2</td>\n",
       "      <td>65.0</td>\n",
       "      <td>71.0</td>\n",
       "      <td>1.050000</td>\n",
       "      <td>0.671429</td>\n",
       "      <td>1021.9</td>\n",
       "      <td>1019.8</td>\n",
       "      <td>0.0</td>\n",
       "      <td>0.8</td>\n",
       "      <td>88.0</td>\n",
       "      <td>39.0</td>\n",
       "      <td>24.0</td>\n",
       "      <td>130.0</td>\n",
       "      <td>86.810830</td>\n",
       "      <td>0</td>\n",
       "      <td>-0.448587</td>\n",
       "      <td>-0.716494</td>\n",
       "      <td>0.362109</td>\n",
       "      <td>-0.344205</td>\n",
       "      <td>-0.389856</td>\n",
       "      <td>-0.229876</td>\n",
       "      <td>-0.034787</td>\n",
       "      <td>0.307349</td>\n",
       "      <td>-0.225505</td>\n",
       "      <td>0.768767</td>\n",
       "      <td>-0.487082</td>\n",
       "      <td>0.043421</td>\n",
       "      <td>0.024839</td>\n",
       "      <td>0.164057</td>\n",
       "      <td>-0.070336</td>\n",
       "    </tr>\n",
       "  </tbody>\n",
       "</table>\n",
       "</div>"
      ],
      "text/plain": [
       "   10_binary    2     3     4         7         8      11      12   13   14  \\\n",
       "0          1  0.6  80.0  76.0  1.107143  0.692857  1024.1  1025.9  0.0  0.6   \n",
       "1          0  6.4  43.0  64.0  1.700000  0.614286  1005.3  1008.1  0.0  0.0   \n",
       "3          0  4.2  65.0  71.0  1.050000  0.671429  1021.9  1019.8  0.0  0.8   \n",
       "\n",
       "     15    20    21     23          24  label     0_pca     1_pca     2_pca  \\\n",
       "0  32.0  28.0   7.0   40.0   15.420787      1 -0.449960 -0.676932 -0.358179   \n",
       "1  50.0  61.0  43.0  110.0  240.496883      0 -0.435826  0.728481 -0.277953   \n",
       "3  88.0  39.0  24.0  130.0   86.810830      0 -0.448587 -0.716494  0.362109   \n",
       "\n",
       "      3_pca     4_pca     5_pca     6_pca     7_pca     8_pca     9_pca  \\\n",
       "0  0.808269 -0.238374 -0.478220  0.790094  0.147134 -0.433307 -0.120838   \n",
       "1 -0.041164 -0.250448  0.367522 -0.340607 -0.257784 -0.332564 -0.621169   \n",
       "3 -0.344205 -0.389856 -0.229876 -0.034787  0.307349 -0.225505  0.768767   \n",
       "\n",
       "     10_pca    11_pca    12_pca    13_pca    14_pca  \n",
       "0  0.195316  0.029825 -0.397723  0.527927 -0.133304  \n",
       "1 -0.434589  0.156341  0.296310 -0.207144 -0.009309  \n",
       "3 -0.487082  0.043421  0.024839  0.164057 -0.070336  "
      ]
     },
     "execution_count": 212,
     "metadata": {},
     "output_type": "execute_result"
    }
   ],
   "source": [
    "df_pca.head(3)"
   ]
  },
  {
   "cell_type": "markdown",
   "metadata": {},
   "source": [
    "## DataFrame with PCA"
   ]
  },
  {
   "cell_type": "markdown",
   "metadata": {},
   "source": [
    "We will perform scaling to numerical features "
   ]
  },
  {
   "cell_type": "code",
   "execution_count": 213,
   "metadata": {},
   "outputs": [],
   "source": [
    "list_of_columns = list(df_pca.columns[:15])\n",
    "scaler = StandardScaler()\n",
    "features_to_scale= df_pca[list_of_columns]\n",
    "scaler.fit(features_to_scale)\n",
    "features_to_scale=pd.DataFrame(scaler.transform(features_to_scale),index=df_pca.index)\n",
    "# X = X.dropna()\n",
    "rest_of_cols = df_pca[df_pca.columns[15:]]\n",
    "df_pca = features_to_scale.join(rest_of_cols)\n",
    "df_pca = df_pca.dropna()"
   ]
  },
  {
   "cell_type": "markdown",
   "metadata": {},
   "source": [
    "## DataFrame (without PCA)"
   ]
  },
  {
   "cell_type": "markdown",
   "metadata": {},
   "source": [
    "We will perform scaling to the the dataframe without pca (and we will see what performs better)"
   ]
  },
  {
   "cell_type": "code",
   "execution_count": 214,
   "metadata": {},
   "outputs": [],
   "source": [
    "list_of_columns = list(df.columns[:15])\n",
    "scaler = StandardScaler()\n",
    "features_to_scale= df[list_of_columns]\n",
    "scaler.fit(features_to_scale)\n",
    "features_to_scale=pd.DataFrame(scaler.transform(features_to_scale),index=df.index)\n",
    "features_to_scale = features_to_scale.dropna()\n",
    "rest_of_cols = df[df.columns[15:]]\n",
    "df = features_to_scale.join(rest_of_cols)"
   ]
  },
  {
   "cell_type": "markdown",
   "metadata": {},
   "source": [
    "## We will try to add polynoimial connections between the numerical features. we will go up to 2nd degree to avoid overfitting (we tried higher degrees but ended up overfitting the data)"
   ]
  },
  {
   "cell_type": "markdown",
   "metadata": {},
   "source": [
    "## DataFrame with Polynomial connection between the numerical features "
   ]
  },
  {
   "cell_type": "code",
   "execution_count": 215,
   "metadata": {},
   "outputs": [],
   "source": [
    "from sklearn.preprocessing import PolynomialFeatures\n",
    "poly = PolynomialFeatures(degree=2)\n",
    "df_poly = poly.fit_transform(df[df.columns[:15]])\n",
    "\n",
    "df_poly = pd.DataFrame(df_poly,index=df.index)\n",
    "df_poly = df_poly.add_suffix('_poly')\n",
    "\n",
    "df_poly = df_poly.join(df[df.columns[15:]])"
   ]
  },
  {
   "cell_type": "code",
   "execution_count": 216,
   "metadata": {},
   "outputs": [
    {
     "data": {
      "text/html": [
       "<div>\n",
       "<style scoped>\n",
       "    .dataframe tbody tr th:only-of-type {\n",
       "        vertical-align: middle;\n",
       "    }\n",
       "\n",
       "    .dataframe tbody tr th {\n",
       "        vertical-align: top;\n",
       "    }\n",
       "\n",
       "    .dataframe thead th {\n",
       "        text-align: right;\n",
       "    }\n",
       "</style>\n",
       "<table border=\"1\" class=\"dataframe\">\n",
       "  <thead>\n",
       "    <tr style=\"text-align: right;\">\n",
       "      <th></th>\n",
       "      <th>0_poly</th>\n",
       "      <th>1_poly</th>\n",
       "      <th>2_poly</th>\n",
       "      <th>3_poly</th>\n",
       "      <th>4_poly</th>\n",
       "      <th>5_poly</th>\n",
       "      <th>6_poly</th>\n",
       "      <th>7_poly</th>\n",
       "      <th>8_poly</th>\n",
       "      <th>9_poly</th>\n",
       "      <th>10_poly</th>\n",
       "      <th>11_poly</th>\n",
       "      <th>12_poly</th>\n",
       "      <th>13_poly</th>\n",
       "      <th>14_poly</th>\n",
       "      <th>15_poly</th>\n",
       "      <th>16_poly</th>\n",
       "      <th>17_poly</th>\n",
       "      <th>18_poly</th>\n",
       "      <th>19_poly</th>\n",
       "      <th>20_poly</th>\n",
       "      <th>21_poly</th>\n",
       "      <th>22_poly</th>\n",
       "      <th>23_poly</th>\n",
       "      <th>24_poly</th>\n",
       "      <th>25_poly</th>\n",
       "      <th>26_poly</th>\n",
       "      <th>27_poly</th>\n",
       "      <th>28_poly</th>\n",
       "      <th>29_poly</th>\n",
       "      <th>30_poly</th>\n",
       "      <th>31_poly</th>\n",
       "      <th>32_poly</th>\n",
       "      <th>33_poly</th>\n",
       "      <th>34_poly</th>\n",
       "      <th>35_poly</th>\n",
       "      <th>36_poly</th>\n",
       "      <th>37_poly</th>\n",
       "      <th>38_poly</th>\n",
       "      <th>39_poly</th>\n",
       "      <th>40_poly</th>\n",
       "      <th>41_poly</th>\n",
       "      <th>42_poly</th>\n",
       "      <th>43_poly</th>\n",
       "      <th>44_poly</th>\n",
       "      <th>45_poly</th>\n",
       "      <th>46_poly</th>\n",
       "      <th>47_poly</th>\n",
       "      <th>48_poly</th>\n",
       "      <th>49_poly</th>\n",
       "      <th>50_poly</th>\n",
       "      <th>51_poly</th>\n",
       "      <th>52_poly</th>\n",
       "      <th>53_poly</th>\n",
       "      <th>54_poly</th>\n",
       "      <th>55_poly</th>\n",
       "      <th>56_poly</th>\n",
       "      <th>57_poly</th>\n",
       "      <th>58_poly</th>\n",
       "      <th>59_poly</th>\n",
       "      <th>...</th>\n",
       "      <th>a25_F6</th>\n",
       "      <th>a26_F6</th>\n",
       "      <th>a27_F6</th>\n",
       "      <th>a28_F6</th>\n",
       "      <th>a29_F6</th>\n",
       "      <th>a3_F6</th>\n",
       "      <th>a30_F6</th>\n",
       "      <th>a4_F6</th>\n",
       "      <th>a5_F6</th>\n",
       "      <th>a6_F6</th>\n",
       "      <th>a7_F6</th>\n",
       "      <th>a8_F6</th>\n",
       "      <th>a9_F6</th>\n",
       "      <th>A_F18</th>\n",
       "      <th>B_F18</th>\n",
       "      <th>C_F18</th>\n",
       "      <th>D_F18</th>\n",
       "      <th>E_F18</th>\n",
       "      <th>F_F18</th>\n",
       "      <th>G_F18</th>\n",
       "      <th>H_F18</th>\n",
       "      <th>I_F18</th>\n",
       "      <th>J_F18</th>\n",
       "      <th>K_F18</th>\n",
       "      <th>L_F18</th>\n",
       "      <th>M_F18</th>\n",
       "      <th>N_F18</th>\n",
       "      <th>O_F18</th>\n",
       "      <th>P_F18</th>\n",
       "      <th>A_F19</th>\n",
       "      <th>B_F19</th>\n",
       "      <th>C_F19</th>\n",
       "      <th>D_F19</th>\n",
       "      <th>E_F19</th>\n",
       "      <th>F_F19</th>\n",
       "      <th>G_F19</th>\n",
       "      <th>H_F19</th>\n",
       "      <th>I_F19</th>\n",
       "      <th>J_F19</th>\n",
       "      <th>K_F19</th>\n",
       "      <th>L_F19</th>\n",
       "      <th>M_F19</th>\n",
       "      <th>N_F19</th>\n",
       "      <th>O_F19</th>\n",
       "      <th>P_F19</th>\n",
       "      <th>2010</th>\n",
       "      <th>2011</th>\n",
       "      <th>2012</th>\n",
       "      <th>1_Month</th>\n",
       "      <th>2_Month</th>\n",
       "      <th>3_Month</th>\n",
       "      <th>4_Month</th>\n",
       "      <th>5_Month</th>\n",
       "      <th>6_Month</th>\n",
       "      <th>7_Month</th>\n",
       "      <th>8_Month</th>\n",
       "      <th>9_Month</th>\n",
       "      <th>10_Month</th>\n",
       "      <th>11_Month</th>\n",
       "      <th>12_Month</th>\n",
       "    </tr>\n",
       "  </thead>\n",
       "  <tbody>\n",
       "    <tr>\n",
       "      <th>0</th>\n",
       "      <td>1.0</td>\n",
       "      <td>4.510624</td>\n",
       "      <td>-1.233799</td>\n",
       "      <td>1.447461</td>\n",
       "      <td>0.438090</td>\n",
       "      <td>-1.168562</td>\n",
       "      <td>-0.446999</td>\n",
       "      <td>1.297967</td>\n",
       "      <td>1.203030</td>\n",
       "      <td>-0.547051</td>\n",
       "      <td>-0.230748</td>\n",
       "      <td>-1.182613</td>\n",
       "      <td>-1.059498</td>\n",
       "      <td>-1.546043</td>\n",
       "      <td>-1.323188</td>\n",
       "      <td>-1.346102</td>\n",
       "      <td>20.345733</td>\n",
       "      <td>-5.565204</td>\n",
       "      <td>6.528952</td>\n",
       "      <td>1.976062</td>\n",
       "      <td>-5.270946</td>\n",
       "      <td>-2.016243</td>\n",
       "      <td>5.854642</td>\n",
       "      <td>5.426418</td>\n",
       "      <td>-2.467541</td>\n",
       "      <td>-1.040818</td>\n",
       "      <td>-5.334324</td>\n",
       "      <td>-4.778998</td>\n",
       "      <td>-6.973620</td>\n",
       "      <td>-5.968404</td>\n",
       "      <td>-6.071762</td>\n",
       "      <td>1.522260</td>\n",
       "      <td>-1.785876</td>\n",
       "      <td>-0.540516</td>\n",
       "      <td>1.441771</td>\n",
       "      <td>0.551506</td>\n",
       "      <td>-1.601431</td>\n",
       "      <td>-1.484298</td>\n",
       "      <td>0.674951</td>\n",
       "      <td>0.284697</td>\n",
       "      <td>1.459107</td>\n",
       "      <td>1.307208</td>\n",
       "      <td>1.907506</td>\n",
       "      <td>1.632548</td>\n",
       "      <td>1.660820</td>\n",
       "      <td>2.095143</td>\n",
       "      <td>0.634119</td>\n",
       "      <td>-1.691448</td>\n",
       "      <td>-0.647013</td>\n",
       "      <td>1.878757</td>\n",
       "      <td>1.741339</td>\n",
       "      <td>-0.791835</td>\n",
       "      <td>-0.333999</td>\n",
       "      <td>-1.711786</td>\n",
       "      <td>-1.533582</td>\n",
       "      <td>-2.237837</td>\n",
       "      <td>-1.915263</td>\n",
       "      <td>-1.948430</td>\n",
       "      <td>0.191923</td>\n",
       "      <td>-0.511936</td>\n",
       "      <td>...</td>\n",
       "      <td>0</td>\n",
       "      <td>0</td>\n",
       "      <td>0</td>\n",
       "      <td>0</td>\n",
       "      <td>0</td>\n",
       "      <td>0</td>\n",
       "      <td>0</td>\n",
       "      <td>0</td>\n",
       "      <td>0</td>\n",
       "      <td>0</td>\n",
       "      <td>0</td>\n",
       "      <td>0</td>\n",
       "      <td>0</td>\n",
       "      <td>0</td>\n",
       "      <td>0</td>\n",
       "      <td>0</td>\n",
       "      <td>1</td>\n",
       "      <td>0</td>\n",
       "      <td>0</td>\n",
       "      <td>0</td>\n",
       "      <td>0</td>\n",
       "      <td>0</td>\n",
       "      <td>0</td>\n",
       "      <td>0</td>\n",
       "      <td>0</td>\n",
       "      <td>0</td>\n",
       "      <td>0</td>\n",
       "      <td>0</td>\n",
       "      <td>0</td>\n",
       "      <td>0</td>\n",
       "      <td>0</td>\n",
       "      <td>0</td>\n",
       "      <td>1</td>\n",
       "      <td>0</td>\n",
       "      <td>0</td>\n",
       "      <td>0</td>\n",
       "      <td>0</td>\n",
       "      <td>0</td>\n",
       "      <td>0</td>\n",
       "      <td>0</td>\n",
       "      <td>0</td>\n",
       "      <td>0</td>\n",
       "      <td>0</td>\n",
       "      <td>0</td>\n",
       "      <td>0</td>\n",
       "      <td>0</td>\n",
       "      <td>1</td>\n",
       "      <td>0</td>\n",
       "      <td>0</td>\n",
       "      <td>0</td>\n",
       "      <td>0</td>\n",
       "      <td>0</td>\n",
       "      <td>1</td>\n",
       "      <td>0</td>\n",
       "      <td>0</td>\n",
       "      <td>0</td>\n",
       "      <td>0</td>\n",
       "      <td>0</td>\n",
       "      <td>0</td>\n",
       "      <td>0</td>\n",
       "    </tr>\n",
       "    <tr>\n",
       "      <th>1</th>\n",
       "      <td>1.0</td>\n",
       "      <td>-0.221699</td>\n",
       "      <td>0.385739</td>\n",
       "      <td>-0.386479</td>\n",
       "      <td>-0.219646</td>\n",
       "      <td>0.062104</td>\n",
       "      <td>-0.616385</td>\n",
       "      <td>-1.487447</td>\n",
       "      <td>-1.416523</td>\n",
       "      <td>-0.547051</td>\n",
       "      <td>-0.315586</td>\n",
       "      <td>-0.685557</td>\n",
       "      <td>1.990698</td>\n",
       "      <td>3.085692</td>\n",
       "      <td>-0.450320</td>\n",
       "      <td>0.130301</td>\n",
       "      <td>0.049150</td>\n",
       "      <td>-0.085518</td>\n",
       "      <td>0.085682</td>\n",
       "      <td>0.048695</td>\n",
       "      <td>-0.013768</td>\n",
       "      <td>0.136652</td>\n",
       "      <td>0.329765</td>\n",
       "      <td>0.314041</td>\n",
       "      <td>0.121281</td>\n",
       "      <td>0.069965</td>\n",
       "      <td>0.151987</td>\n",
       "      <td>-0.441335</td>\n",
       "      <td>-0.684094</td>\n",
       "      <td>0.099835</td>\n",
       "      <td>-0.028888</td>\n",
       "      <td>0.148795</td>\n",
       "      <td>-0.149080</td>\n",
       "      <td>-0.084726</td>\n",
       "      <td>0.023956</td>\n",
       "      <td>-0.237764</td>\n",
       "      <td>-0.573767</td>\n",
       "      <td>-0.546408</td>\n",
       "      <td>-0.211019</td>\n",
       "      <td>-0.121734</td>\n",
       "      <td>-0.264446</td>\n",
       "      <td>0.767890</td>\n",
       "      <td>1.190272</td>\n",
       "      <td>-0.173706</td>\n",
       "      <td>0.050262</td>\n",
       "      <td>0.149366</td>\n",
       "      <td>0.084889</td>\n",
       "      <td>-0.024002</td>\n",
       "      <td>0.238220</td>\n",
       "      <td>0.574868</td>\n",
       "      <td>0.547457</td>\n",
       "      <td>0.211424</td>\n",
       "      <td>0.121968</td>\n",
       "      <td>0.264954</td>\n",
       "      <td>-0.769364</td>\n",
       "      <td>-1.192557</td>\n",
       "      <td>0.174039</td>\n",
       "      <td>-0.050359</td>\n",
       "      <td>0.048244</td>\n",
       "      <td>-0.013641</td>\n",
       "      <td>...</td>\n",
       "      <td>0</td>\n",
       "      <td>0</td>\n",
       "      <td>0</td>\n",
       "      <td>0</td>\n",
       "      <td>0</td>\n",
       "      <td>0</td>\n",
       "      <td>0</td>\n",
       "      <td>0</td>\n",
       "      <td>0</td>\n",
       "      <td>0</td>\n",
       "      <td>0</td>\n",
       "      <td>0</td>\n",
       "      <td>1</td>\n",
       "      <td>0</td>\n",
       "      <td>0</td>\n",
       "      <td>0</td>\n",
       "      <td>0</td>\n",
       "      <td>0</td>\n",
       "      <td>0</td>\n",
       "      <td>0</td>\n",
       "      <td>0</td>\n",
       "      <td>0</td>\n",
       "      <td>0</td>\n",
       "      <td>0</td>\n",
       "      <td>0</td>\n",
       "      <td>0</td>\n",
       "      <td>1</td>\n",
       "      <td>0</td>\n",
       "      <td>0</td>\n",
       "      <td>0</td>\n",
       "      <td>0</td>\n",
       "      <td>0</td>\n",
       "      <td>0</td>\n",
       "      <td>0</td>\n",
       "      <td>0</td>\n",
       "      <td>0</td>\n",
       "      <td>0</td>\n",
       "      <td>1</td>\n",
       "      <td>0</td>\n",
       "      <td>0</td>\n",
       "      <td>0</td>\n",
       "      <td>0</td>\n",
       "      <td>0</td>\n",
       "      <td>0</td>\n",
       "      <td>0</td>\n",
       "      <td>0</td>\n",
       "      <td>0</td>\n",
       "      <td>1</td>\n",
       "      <td>0</td>\n",
       "      <td>0</td>\n",
       "      <td>0</td>\n",
       "      <td>0</td>\n",
       "      <td>0</td>\n",
       "      <td>0</td>\n",
       "      <td>0</td>\n",
       "      <td>0</td>\n",
       "      <td>0</td>\n",
       "      <td>0</td>\n",
       "      <td>1</td>\n",
       "      <td>0</td>\n",
       "    </tr>\n",
       "    <tr>\n",
       "      <th>3</th>\n",
       "      <td>1.0</td>\n",
       "      <td>-0.221699</td>\n",
       "      <td>-0.228568</td>\n",
       "      <td>0.703972</td>\n",
       "      <td>0.164034</td>\n",
       "      <td>-1.287181</td>\n",
       "      <td>-0.493195</td>\n",
       "      <td>0.972014</td>\n",
       "      <td>0.305318</td>\n",
       "      <td>-0.547051</td>\n",
       "      <td>-0.202469</td>\n",
       "      <td>0.363784</td>\n",
       "      <td>-0.042766</td>\n",
       "      <td>0.641165</td>\n",
       "      <td>-0.200929</td>\n",
       "      <td>-0.877814</td>\n",
       "      <td>0.049150</td>\n",
       "      <td>0.050673</td>\n",
       "      <td>-0.156070</td>\n",
       "      <td>-0.036366</td>\n",
       "      <td>0.285366</td>\n",
       "      <td>0.109341</td>\n",
       "      <td>-0.215494</td>\n",
       "      <td>-0.067689</td>\n",
       "      <td>0.121281</td>\n",
       "      <td>0.044887</td>\n",
       "      <td>-0.080650</td>\n",
       "      <td>0.009481</td>\n",
       "      <td>-0.142146</td>\n",
       "      <td>0.044546</td>\n",
       "      <td>0.194610</td>\n",
       "      <td>0.052244</td>\n",
       "      <td>-0.160906</td>\n",
       "      <td>-0.037493</td>\n",
       "      <td>0.294209</td>\n",
       "      <td>0.112729</td>\n",
       "      <td>-0.222172</td>\n",
       "      <td>-0.069786</td>\n",
       "      <td>0.125039</td>\n",
       "      <td>0.046278</td>\n",
       "      <td>-0.083150</td>\n",
       "      <td>0.009775</td>\n",
       "      <td>-0.146550</td>\n",
       "      <td>0.045926</td>\n",
       "      <td>0.200641</td>\n",
       "      <td>0.495576</td>\n",
       "      <td>0.115475</td>\n",
       "      <td>-0.906139</td>\n",
       "      <td>-0.347195</td>\n",
       "      <td>0.684270</td>\n",
       "      <td>0.214935</td>\n",
       "      <td>-0.385108</td>\n",
       "      <td>-0.142532</td>\n",
       "      <td>0.256094</td>\n",
       "      <td>-0.030106</td>\n",
       "      <td>0.451362</td>\n",
       "      <td>-0.141448</td>\n",
       "      <td>-0.617956</td>\n",
       "      <td>0.026907</td>\n",
       "      <td>-0.211141</td>\n",
       "      <td>...</td>\n",
       "      <td>0</td>\n",
       "      <td>0</td>\n",
       "      <td>0</td>\n",
       "      <td>0</td>\n",
       "      <td>0</td>\n",
       "      <td>0</td>\n",
       "      <td>0</td>\n",
       "      <td>0</td>\n",
       "      <td>0</td>\n",
       "      <td>0</td>\n",
       "      <td>0</td>\n",
       "      <td>0</td>\n",
       "      <td>0</td>\n",
       "      <td>0</td>\n",
       "      <td>0</td>\n",
       "      <td>0</td>\n",
       "      <td>0</td>\n",
       "      <td>0</td>\n",
       "      <td>0</td>\n",
       "      <td>0</td>\n",
       "      <td>0</td>\n",
       "      <td>0</td>\n",
       "      <td>0</td>\n",
       "      <td>1</td>\n",
       "      <td>0</td>\n",
       "      <td>0</td>\n",
       "      <td>0</td>\n",
       "      <td>0</td>\n",
       "      <td>0</td>\n",
       "      <td>0</td>\n",
       "      <td>0</td>\n",
       "      <td>0</td>\n",
       "      <td>1</td>\n",
       "      <td>0</td>\n",
       "      <td>0</td>\n",
       "      <td>0</td>\n",
       "      <td>0</td>\n",
       "      <td>0</td>\n",
       "      <td>0</td>\n",
       "      <td>0</td>\n",
       "      <td>0</td>\n",
       "      <td>0</td>\n",
       "      <td>0</td>\n",
       "      <td>0</td>\n",
       "      <td>0</td>\n",
       "      <td>1</td>\n",
       "      <td>0</td>\n",
       "      <td>0</td>\n",
       "      <td>0</td>\n",
       "      <td>0</td>\n",
       "      <td>0</td>\n",
       "      <td>0</td>\n",
       "      <td>0</td>\n",
       "      <td>0</td>\n",
       "      <td>0</td>\n",
       "      <td>0</td>\n",
       "      <td>0</td>\n",
       "      <td>1</td>\n",
       "      <td>0</td>\n",
       "      <td>0</td>\n",
       "    </tr>\n",
       "  </tbody>\n",
       "</table>\n",
       "<p>3 rows × 231 columns</p>\n",
       "</div>"
      ],
      "text/plain": [
       "   0_poly    1_poly    2_poly    3_poly    4_poly    5_poly    6_poly  \\\n",
       "0     1.0  4.510624 -1.233799  1.447461  0.438090 -1.168562 -0.446999   \n",
       "1     1.0 -0.221699  0.385739 -0.386479 -0.219646  0.062104 -0.616385   \n",
       "3     1.0 -0.221699 -0.228568  0.703972  0.164034 -1.287181 -0.493195   \n",
       "\n",
       "     7_poly    8_poly    9_poly   10_poly   11_poly   12_poly   13_poly  \\\n",
       "0  1.297967  1.203030 -0.547051 -0.230748 -1.182613 -1.059498 -1.546043   \n",
       "1 -1.487447 -1.416523 -0.547051 -0.315586 -0.685557  1.990698  3.085692   \n",
       "3  0.972014  0.305318 -0.547051 -0.202469  0.363784 -0.042766  0.641165   \n",
       "\n",
       "    14_poly   15_poly    16_poly   17_poly   18_poly   19_poly   20_poly  \\\n",
       "0 -1.323188 -1.346102  20.345733 -5.565204  6.528952  1.976062 -5.270946   \n",
       "1 -0.450320  0.130301   0.049150 -0.085518  0.085682  0.048695 -0.013768   \n",
       "3 -0.200929 -0.877814   0.049150  0.050673 -0.156070 -0.036366  0.285366   \n",
       "\n",
       "    21_poly   22_poly   23_poly   24_poly   25_poly   26_poly   27_poly  \\\n",
       "0 -2.016243  5.854642  5.426418 -2.467541 -1.040818 -5.334324 -4.778998   \n",
       "1  0.136652  0.329765  0.314041  0.121281  0.069965  0.151987 -0.441335   \n",
       "3  0.109341 -0.215494 -0.067689  0.121281  0.044887 -0.080650  0.009481   \n",
       "\n",
       "    28_poly   29_poly   30_poly   31_poly   32_poly   33_poly   34_poly  \\\n",
       "0 -6.973620 -5.968404 -6.071762  1.522260 -1.785876 -0.540516  1.441771   \n",
       "1 -0.684094  0.099835 -0.028888  0.148795 -0.149080 -0.084726  0.023956   \n",
       "3 -0.142146  0.044546  0.194610  0.052244 -0.160906 -0.037493  0.294209   \n",
       "\n",
       "    35_poly   36_poly   37_poly   38_poly   39_poly   40_poly   41_poly  \\\n",
       "0  0.551506 -1.601431 -1.484298  0.674951  0.284697  1.459107  1.307208   \n",
       "1 -0.237764 -0.573767 -0.546408 -0.211019 -0.121734 -0.264446  0.767890   \n",
       "3  0.112729 -0.222172 -0.069786  0.125039  0.046278 -0.083150  0.009775   \n",
       "\n",
       "    42_poly   43_poly   44_poly   45_poly   46_poly   47_poly   48_poly  \\\n",
       "0  1.907506  1.632548  1.660820  2.095143  0.634119 -1.691448 -0.647013   \n",
       "1  1.190272 -0.173706  0.050262  0.149366  0.084889 -0.024002  0.238220   \n",
       "3 -0.146550  0.045926  0.200641  0.495576  0.115475 -0.906139 -0.347195   \n",
       "\n",
       "    49_poly   50_poly   51_poly   52_poly   53_poly   54_poly   55_poly  \\\n",
       "0  1.878757  1.741339 -0.791835 -0.333999 -1.711786 -1.533582 -2.237837   \n",
       "1  0.574868  0.547457  0.211424  0.121968  0.264954 -0.769364 -1.192557   \n",
       "3  0.684270  0.214935 -0.385108 -0.142532  0.256094 -0.030106  0.451362   \n",
       "\n",
       "    56_poly   57_poly   58_poly   59_poly  ...  a25_F6  a26_F6  a27_F6  \\\n",
       "0 -1.915263 -1.948430  0.191923 -0.511936  ...       0       0       0   \n",
       "1  0.174039 -0.050359  0.048244 -0.013641  ...       0       0       0   \n",
       "3 -0.141448 -0.617956  0.026907 -0.211141  ...       0       0       0   \n",
       "\n",
       "   a28_F6  a29_F6  a3_F6  a30_F6  a4_F6  a5_F6  a6_F6  a7_F6  a8_F6  a9_F6  \\\n",
       "0       0       0      0       0      0      0      0      0      0      0   \n",
       "1       0       0      0       0      0      0      0      0      0      1   \n",
       "3       0       0      0       0      0      0      0      0      0      0   \n",
       "\n",
       "   A_F18  B_F18  C_F18  D_F18  E_F18  F_F18  G_F18  H_F18  I_F18  J_F18  \\\n",
       "0      0      0      0      1      0      0      0      0      0      0   \n",
       "1      0      0      0      0      0      0      0      0      0      0   \n",
       "3      0      0      0      0      0      0      0      0      0      0   \n",
       "\n",
       "   K_F18  L_F18  M_F18  N_F18  O_F18  P_F18  A_F19  B_F19  C_F19  D_F19  \\\n",
       "0      0      0      0      0      0      0      0      0      0      1   \n",
       "1      0      0      0      1      0      0      0      0      0      0   \n",
       "3      1      0      0      0      0      0      0      0      0      1   \n",
       "\n",
       "   E_F19  F_F19  G_F19  H_F19  I_F19  J_F19  K_F19  L_F19  M_F19  N_F19  \\\n",
       "0      0      0      0      0      0      0      0      0      0      0   \n",
       "1      0      0      0      0      1      0      0      0      0      0   \n",
       "3      0      0      0      0      0      0      0      0      0      0   \n",
       "\n",
       "   O_F19  P_F19  2010  2011  2012  1_Month  2_Month  3_Month  4_Month  \\\n",
       "0      0      0     0     1     0        0        0        0        0   \n",
       "1      0      0     0     0     1        0        0        0        0   \n",
       "3      0      0     1     0     0        0        0        0        0   \n",
       "\n",
       "   5_Month  6_Month  7_Month  8_Month  9_Month  10_Month  11_Month  12_Month  \n",
       "0        1        0        0        0        0         0         0         0  \n",
       "1        0        0        0        0        0         0         1         0  \n",
       "3        0        0        0        0        0         1         0         0  \n",
       "\n",
       "[3 rows x 231 columns]"
      ]
     },
     "execution_count": 216,
     "metadata": {},
     "output_type": "execute_result"
    }
   ],
   "source": [
    "df_poly.head(3)"
   ]
  },
  {
   "cell_type": "markdown",
   "metadata": {},
   "source": [
    "## Now, the data is cleaned and we removed some redundent features, added other features and reduced the dimentions, we're ready to fit different algorithm on the data"
   ]
  },
  {
   "cell_type": "code",
   "execution_count": 217,
   "metadata": {},
   "outputs": [],
   "source": [
    "from sklearn.metrics import log_loss"
   ]
  },
  {
   "cell_type": "code",
   "execution_count": 218,
   "metadata": {},
   "outputs": [],
   "source": [
    "clf = LogisticRegression(max_iter=1000)"
   ]
  },
  {
   "cell_type": "markdown",
   "metadata": {},
   "source": [
    "We will perform test on the different dataframe that we have (df, df with pca, df with polynomial features) using logistic regression with L2 regularization"
   ]
  },
  {
   "cell_type": "code",
   "execution_count": 219,
   "metadata": {},
   "outputs": [
    {
     "name": "stdout",
     "output_type": "stream",
     "text": [
      "0.29028566670379685\n",
      "0.31216548271687355\n"
     ]
    }
   ],
   "source": [
    "X_train, X_test, y_train, y_test = train_test_split(df.loc[:,df.columns!= 'label'],df.label , test_size=0.2)\n",
    "clf.fit(X=X_train,y=y_train)\n",
    "print(log_loss(y_train,clf.predict_proba(X_train)))\n",
    "print(log_loss(y_test, clf.predict_proba(X_test)))"
   ]
  },
  {
   "cell_type": "code",
   "execution_count": 220,
   "metadata": {},
   "outputs": [
    {
     "name": "stdout",
     "output_type": "stream",
     "text": [
      "0.2803967923542081\n",
      "0.29361354878579254\n"
     ]
    }
   ],
   "source": [
    "X_train, X_test, y_train, y_test = train_test_split(df_poly.loc[:,df_poly.columns!= 'label'],df_poly.label, test_size=0.2 )\n",
    "clf.fit(X=X_train,y=y_train)\n",
    "#0.8814218993253762\n",
    "print(log_loss(y_train,clf.predict_proba(X_train)))\n",
    "#0.8835278858625162\n",
    "print(log_loss(y_test, clf.predict_proba(X_test)))"
   ]
  },
  {
   "cell_type": "code",
   "execution_count": 221,
   "metadata": {},
   "outputs": [
    {
     "name": "stdout",
     "output_type": "stream",
     "text": [
      "0.2967525357884943\n",
      "0.3114504738780719\n"
     ]
    }
   ],
   "source": [
    "X_train, X_test, y_train, y_test = train_test_split(df_pca.loc[:,df_pca.columns!= 'label'],df_pca.label , test_size=0.2)\n",
    "clf.fit(X=X_train,y=y_train)\n",
    "print(log_loss(y_train,clf.predict_proba(X_train)))\n",
    "print(log_loss(y_test, clf.predict_proba(X_test)))"
   ]
  },
  {
   "cell_type": "markdown",
   "metadata": {},
   "source": [
    "## We will move forward with the dataframe that has the polynomial features since it gave on avergage the best results when running it on a validation set of a shuffled data.(It gave better 'auc' results as well)"
   ]
  },
  {
   "cell_type": "markdown",
   "metadata": {},
   "source": [
    "# Building various models"
   ]
  },
  {
   "cell_type": "markdown",
   "metadata": {},
   "source": [
    "We will you this method for models' comparison "
   ]
  },
  {
   "cell_type": "code",
   "execution_count": 222,
   "metadata": {},
   "outputs": [],
   "source": [
    "def KfoldPlot(X, y, clf, k):\n",
    "    kf = KFold(n_splits=k)#Provides train/test indices to split data in train/test setv\n",
    "    mean_fpr= np.linspace(0, 1, 200) #create horizontal axis from 0 to 1 divided to multiple intervals, which are coordinates at which to evaluate the interpolated values.\n",
    "    mean_tpr=0\n",
    "    mean_thresholds=[]\n",
    "    for train_index, test_index in kf.split(X): #in each fold we split data to train and test\n",
    "        X_train, X_test = X[X.index.isin(train_index)], X[X.index.isin(test_index)]\n",
    "        y_train, y_test = y[y.index.isin(train_index)], y[y.index.isin(test_index)]\n",
    "        clf.fit(X= X_train, y= y_train) #built the model on training data\n",
    "        y_score = clf.predict_proba(X_test)[:,1] #predict test. returns 2 col: prob for class 0, prob for class 1\n",
    "        fpr, tpr, thresholds =roc_curve(y_test, y_score)#roc returns for each threshold the fp and tp rates\n",
    "        plt.plot(fpr, tpr, 'g') #plot current fold\n",
    "        mean_tpr += np.interp(mean_fpr, fpr, tpr) #use inter to create an interpulate to roc func\n",
    "        #at each mean fpr point we evaluate the interpolated values. we do this each iteration which gives us the mean.?????\n",
    "    mean_tpr /= k #divide each element by k     \n",
    "    mean_tpr[0]=0\n",
    "    mean_tpr[-1]=1\n",
    "    mean_auc = '%.3f'% auc(mean_fpr, mean_tpr) #keep only 3 digits after point\n",
    "    plt.plot([0], [0], color='g', label='K-folds') \n",
    "    plt.plot(mean_fpr ,mean_tpr, \"r\", label = \"Mean ROC (area = {})\".format(mean_auc))\n",
    "    plt.plot([0,1],[0,1], ls= \"--\")\n",
    "    plt.xlabel(\"False Positive Rate\") \n",
    "    plt.ylabel(\"True Positive Rate\")\n",
    "   # model_name=str(clf) #no attribute pop????\n",
    "    plt.title(\"ROC for \"+ str(clf)[:str(clf).find(\"(\")])\n",
    "    plt.legend(loc=\"lower right\")\n",
    "    plt.show()"
   ]
  },
  {
   "cell_type": "markdown",
   "metadata": {},
   "source": [
    "## Another accuracy metric"
   ]
  },
  {
   "cell_type": "markdown",
   "metadata": {},
   "source": [
    "**An Accuracy metric for the model - (TP+TN)/(TP+TN+FP+FN). we will use the sklearn built-in methods accuracy_score or score in all the models\n",
    "If we know that prediction a FP is 5 times worse than prediction a FN, an accuracy measure metric can be - (TP+TN)/(TP+TN+(5*FP)+FN). We will build the function 'weighted_accuracy' for that purpose**"
   ]
  },
  {
   "cell_type": "code",
   "execution_count": 223,
   "metadata": {},
   "outputs": [],
   "source": [
    "def weighted_accuracy(y_actual, y_hat):\n",
    "    y_actual = y_actual.to_numpy()\n",
    "    TP = 0\n",
    "    FP = 0\n",
    "    TN = 0\n",
    "    FN = 0\n",
    "    for i in range(0,len(y_hat)): \n",
    "        if((y_actual[i]==y_hat[i]) & (y_actual[i]==1)):\n",
    "           TP += 1\n",
    "        if((y_hat[i]==1) & (y_actual[i]!=y_hat[i])):\n",
    "           FP += 1\n",
    "        if((y_actual[i]==y_hat[i]) & (y_actual[i] == 0)):\n",
    "           TN += 1\n",
    "        if((y_hat[i]==0) & (y_actual[i]!=y_hat[i])):\n",
    "           FN += 1\n",
    "    return((TP+TN)/(TP+TN+FN+(5*FP)))"
   ]
  },
  {
   "cell_type": "markdown",
   "metadata": {},
   "source": [
    "In order to calculate the weighted accuracy on all the data and get a better estimator for the weighted accuracy, we built this method that perform k-fold cross validation with the weighted_accuracy as a score function to get an average estimator of of the folds"
   ]
  },
  {
   "cell_type": "markdown",
   "metadata": {},
   "source": [
    "**Kfold CV with a weighted score function**"
   ]
  },
  {
   "cell_type": "code",
   "execution_count": 225,
   "metadata": {},
   "outputs": [],
   "source": [
    "def Kfold_weighted_accuracy(X, y, clf, k):\n",
    "    kf = KFold(n_splits=k)#Provides train/test indices to split data in train/test setv\n",
    "    accuracy_list = []\n",
    "    for train_index, test_index in kf.split(X): #in each fold we split data to train and test\n",
    "        X_train, X_test = X[X.index.isin(train_index)], X[X.index.isin(test_index)]\n",
    "        y_train, y_test = y[y.index.isin(train_index)], y[y.index.isin(test_index)]\n",
    "        clf.fit(X= X_train, y= y_train) #built the model on training data\n",
    "        accuracy_list.append(weighted_accuracy(y_test,clf.predict(X_test)))\n",
    "    return(np.mean(accuracy_list))"
   ]
  },
  {
   "cell_type": "markdown",
   "metadata": {},
   "source": [
    "# Logistic Regression "
   ]
  },
  {
   "cell_type": "code",
   "execution_count": 241,
   "metadata": {},
   "outputs": [],
   "source": [
    "# We ran the grid-search with 'l1' as well, it didnt give better results and took a very long time so we dropped it\n",
    "parameter_options = {'penalty' : ['l2'],\n",
    "                    'C': [0.01,1,5,10],\n",
    "                    'solver': ['liblinear','lbfgs']}\n",
    "clf_logreg = GridSearchCV(LogisticRegression(max_iter=2000), parameter_options,cv=5, scoring= 'roc_auc')"
   ]
  },
  {
   "cell_type": "markdown",
   "metadata": {},
   "source": [
    "HyperParameters Tuning via a gridSearch"
   ]
  },
  {
   "cell_type": "code",
   "execution_count": 228,
   "metadata": {},
   "outputs": [],
   "source": [
    "# Here, we ran the same test with the the three dataframes (df, df with pca and df with polynomial connection) and df with polynimial connections gave the best results"
   ]
  },
  {
   "cell_type": "code",
   "execution_count": 242,
   "metadata": {},
   "outputs": [
    {
     "name": "stdout",
     "output_type": "stream",
     "text": [
      "{'C': 1, 'penalty': 'l2', 'solver': 'lbfgs'}\n",
      "0.9092827214221672\n"
     ]
    }
   ],
   "source": [
    "X_train, X_test, y_train, y_test = train_test_split(df_poly.loc[:,df_poly.columns!= 'label'],df_poly.label, test_size=0.2 )\n",
    "clf_logreg.fit(X_train,y_train)\n",
    "print(clf_logreg.best_params_)\n",
    "print(clf_logreg.best_score_)"
   ]
  },
  {
   "cell_type": "markdown",
   "metadata": {},
   "source": [
    "Initialize the classifier with the best hyperParameters from the grid search **here we specify on the default hyperparameters as well**"
   ]
  },
  {
   "cell_type": "code",
   "execution_count": 243,
   "metadata": {},
   "outputs": [],
   "source": [
    "clf_logreg = LogisticRegression(penalty='l2',\n",
    "    dual=False,\n",
    "    tol=0.0001,\n",
    "    C=1.0,\n",
    "    fit_intercept=True,\n",
    "    intercept_scaling=1,\n",
    "    class_weight=None,\n",
    "    random_state=None,\n",
    "    solver='lbfgs',\n",
    "    max_iter=1000,\n",
    "    multi_class='auto',\n",
    "    verbose=0,\n",
    "    warm_start=False,\n",
    "    n_jobs=None,\n",
    "    l1_ratio=None)"
   ]
  },
  {
   "cell_type": "code",
   "execution_count": 244,
   "metadata": {},
   "outputs": [
    {
     "data": {
      "image/png": "[encoded data removed]",
      "text/plain": [
       "<Figure size 1152x648 with 1 Axes>"
      ]
     },
     "metadata": {
      "needs_background": "light"
     },
     "output_type": "display_data"
    }
   ],
   "source": [
    "KfoldPlot(X_train,y_train,clf_logreg,5)"
   ]
  },
  {
   "cell_type": "markdown",
   "metadata": {},
   "source": [
    "## Accuracy metrics- we'll calculate the accuracy on the train set and the validation set"
   ]
  },
  {
   "cell_type": "markdown",
   "metadata": {},
   "source": [
    "**We can see that we're not over-fitted** we did not over learn the training data"
   ]
  },
  {
   "cell_type": "code",
   "execution_count": 245,
   "metadata": {},
   "outputs": [
    {
     "name": "stdout",
     "output_type": "stream",
     "text": [
      "score on the train set is :0.8779839128178516\n",
      "score on the validation set is :0.8713359273670558\n"
     ]
    }
   ],
   "source": [
    "print('score on the train set is :{}'.format(accuracy_score(y_train,clf_logreg.predict(X_train))))\n",
    "print('score on the validation set is :{}'.format(accuracy_score(y_test, clf_logreg.predict(X_test))))"
   ]
  },
  {
   "cell_type": "markdown",
   "metadata": {},
   "source": [
    "## A weighted prediction (where false positives are 5 times worse)"
   ]
  },
  {
   "cell_type": "code",
   "execution_count": 246,
   "metadata": {},
   "outputs": [
    {
     "data": {
      "text/plain": [
       "0.7506588997740063"
      ]
     },
     "execution_count": 246,
     "metadata": {},
     "output_type": "execute_result"
    }
   ],
   "source": [
    "Kfold_weighted_accuracy(X_train,y_train,clf_logreg,5)"
   ]
  },
  {
   "cell_type": "markdown",
   "metadata": {},
   "source": [
    "# We chose to perform the confusion matrix on this model "
   ]
  },
  {
   "cell_type": "code",
   "execution_count": 247,
   "metadata": {},
   "outputs": [
    {
     "data": {
      "text/plain": [
       "<sklearn.metrics._plot.confusion_matrix.ConfusionMatrixDisplay at 0x271337ee220>"
      ]
     },
     "execution_count": 247,
     "metadata": {},
     "output_type": "execute_result"
    },
    {
     "data": {
      "image/png": "[encoded data removed]",
      "text/plain": [
       "<Figure size 1152x648 with 2 Axes>"
      ]
     },
     "metadata": {
      "needs_background": "light"
     },
     "output_type": "display_data"
    }
   ],
   "source": [
    "plot_confusion_matrix(clf_logreg,X_test,y_test)"
   ]
  },
  {
   "cell_type": "markdown",
   "metadata": {},
   "source": [
    "## Explanation\n",
    "\n",
    "From the confusion matrix, we see the on the given validation set we have got:\n",
    "* 557 True-Positives- cases where the class 1 was predicted correctly \n",
    "* 2802 True-Negatives- cases where the class 0 was predicted correctly \n",
    "* 159 Flase-Positives- cases where the class 1 was predicted incorrectly \n",
    "* 337 False-Negatives- cases where the class 0 was predicted incorrectly \n"
   ]
  },
  {
   "cell_type": "markdown",
   "metadata": {},
   "source": [
    "## KNN "
   ]
  },
  {
   "cell_type": "code",
   "execution_count": 249,
   "metadata": {},
   "outputs": [],
   "source": [
    "parameter_options = {'n_neighbors' : [10,15,23,25],\n",
    "                    'leaf_size': [15,23,30]}\n",
    "clf_knn = GridSearchCV(KNeighborsClassifier(n_jobs= -1), parameter_options,cv=5, scoring= 'roc_auc',n_jobs=-1) # n_jobs=-1 tells the classifier to work on all the CPUs"
   ]
  },
  {
   "cell_type": "code",
   "execution_count": 250,
   "metadata": {},
   "outputs": [
    {
     "name": "stdout",
     "output_type": "stream",
     "text": [
      "{'leaf_size': 15, 'n_neighbors': 25}\n",
      "0.8926801356751215\n"
     ]
    }
   ],
   "source": [
    "X_train, X_test, y_train, y_test = train_test_split(df_poly.loc[:,df_poly.columns!= 'label'],df_poly.label, test_size=0.2 )\n",
    "clf_knn.fit(X_train,y_train)\n",
    "print(clf_knn.best_params_)\n",
    "print(clf_knn.best_score_)"
   ]
  },
  {
   "cell_type": "markdown",
   "metadata": {},
   "source": [
    "Initialize the classifier with the best hyperParameters from the grid search **here we specify on the default hyperparameters as well**"
   ]
  },
  {
   "cell_type": "code",
   "execution_count": 255,
   "metadata": {},
   "outputs": [],
   "source": [
    "clf_knn = KNeighborsClassifier( n_neighbors=25,\n",
    "    weights='uniform',\n",
    "    algorithm='auto',\n",
    "    leaf_size=15,\n",
    "    p=2,\n",
    "    metric='minkowski',\n",
    "    metric_params=None,\n",
    "    n_jobs=-1)"
   ]
  },
  {
   "cell_type": "code",
   "execution_count": 256,
   "metadata": {},
   "outputs": [
    {
     "data": {
      "image/png": "[encoded data removed]",
      "text/plain": [
       "<Figure size 1152x648 with 1 Axes>"
      ]
     },
     "metadata": {
      "needs_background": "light"
     },
     "output_type": "display_data"
    }
   ],
   "source": [
    "KfoldPlot(X_train,y_train,clf_knn,5)"
   ]
  },
  {
   "cell_type": "markdown",
   "metadata": {},
   "source": [
    "## Accuracy metrics- we'll calculate the accuracy on the train set and the validation set to compare the performance on both "
   ]
  },
  {
   "cell_type": "code",
   "execution_count": 257,
   "metadata": {},
   "outputs": [
    {
     "name": "stdout",
     "output_type": "stream",
     "text": [
      "score on the train set is :0.8640373637778931\n",
      "score on the validation set is :0.8627756160830091\n"
     ]
    }
   ],
   "source": [
    "print('score on the train set is :{}'.format(accuracy_score(y_train,clf_knn.predict(X_train))))\n",
    "print('score on the validation set is :{}'.format(accuracy_score(y_test, clf_knn.predict(X_test))))"
   ]
  },
  {
   "cell_type": "markdown",
   "metadata": {},
   "source": [
    "## A weighted prediction (where false positives are 5 times worse)"
   ]
  },
  {
   "cell_type": "code",
   "execution_count": 258,
   "metadata": {},
   "outputs": [
    {
     "data": {
      "text/plain": [
       "0.793276576574035"
      ]
     },
     "execution_count": 258,
     "metadata": {},
     "output_type": "execute_result"
    }
   ],
   "source": [
    "Kfold_weighted_accuracy(X_train,y_train,clf_knn,5)"
   ]
  },
  {
   "cell_type": "markdown",
   "metadata": {},
   "source": [
    "# RandomForest"
   ]
  },
  {
   "cell_type": "code",
   "execution_count": 259,
   "metadata": {},
   "outputs": [],
   "source": [
    "from sklearn.ensemble import RandomForestClassifier"
   ]
  },
  {
   "cell_type": "code",
   "execution_count": 262,
   "metadata": {},
   "outputs": [],
   "source": [
    "parameter_options = {'max_depth' : [14,16,18],\n",
    "                    'n_estimators': [50,100,150]}\n",
    "clf_random_forest = GridSearchCV(RandomForestClassifier(n_jobs=-1), parameter_options,cv=5, scoring= 'roc_auc',n_jobs=-1) "
   ]
  },
  {
   "cell_type": "code",
   "execution_count": 263,
   "metadata": {},
   "outputs": [
    {
     "name": "stdout",
     "output_type": "stream",
     "text": [
      "{'max_depth': 18, 'n_estimators': 150}\n",
      "0.901860445260437\n"
     ]
    }
   ],
   "source": [
    "X_train, X_test, y_train, y_test = train_test_split(df_poly.loc[:,df_poly.columns!= 'label'],df_poly.label, test_size=0.2 )\n",
    "clf_random_forest.fit(X_train,y_train)\n",
    "print(clf_random_forest.best_params_)\n",
    "print(clf_random_forest.best_score_)"
   ]
  },
  {
   "cell_type": "markdown",
   "metadata": {},
   "source": [
    "InInitialize the classifier with the best hyperParameters from the grid search **here we specify on the default hyperparameters as well**"
   ]
  },
  {
   "cell_type": "code",
   "execution_count": 264,
   "metadata": {},
   "outputs": [],
   "source": [
    "clf_random_forest = RandomForestClassifier(n_estimators=150,\n",
    "    criterion='gini',\n",
    "    max_depth=18,\n",
    "    min_samples_split=2,\n",
    "    min_samples_leaf=1,\n",
    "    min_weight_fraction_leaf=0.0,\n",
    "    max_features='auto',\n",
    "    max_leaf_nodes=None,\n",
    "    min_impurity_decrease=0.0,\n",
    "    min_impurity_split=None,\n",
    "    bootstrap=True,\n",
    "    oob_score=False,\n",
    "    n_jobs=-1,\n",
    "    random_state=None,\n",
    "    verbose=0,\n",
    "    warm_start=False,\n",
    "    class_weight=None,\n",
    "    ccp_alpha=0.0,\n",
    "    max_samples=None)"
   ]
  },
  {
   "cell_type": "code",
   "execution_count": 265,
   "metadata": {},
   "outputs": [
    {
     "data": {
      "image/png": "[encoded data removed]",
      "text/plain": [
       "<Figure size 1152x648 with 1 Axes>"
      ]
     },
     "metadata": {
      "needs_background": "light"
     },
     "output_type": "display_data"
    }
   ],
   "source": [
    "KfoldPlot(X_train,y_train,clf_random_forest,5)"
   ]
  },
  {
   "cell_type": "markdown",
   "metadata": {},
   "source": [
    "## Accuracy metrics- we'll calculate the accuracy on the train set and the validation set to compare the performance on both "
   ]
  },
  {
   "cell_type": "code",
   "execution_count": 266,
   "metadata": {},
   "outputs": [
    {
     "name": "stdout",
     "output_type": "stream",
     "text": [
      "score on the train set is :0.9326024909185262\n",
      "score on the validation set is :0.8697795071335928\n"
     ]
    }
   ],
   "source": [
    "print('score on the train set is :{}'.format(accuracy_score(y_train,clf_random_forest.predict(X_train))))\n",
    "print('score on the validation set is :{}'.format(accuracy_score(y_test, clf_random_forest.predict(X_test))))"
   ]
  },
  {
   "cell_type": "markdown",
   "metadata": {},
   "source": [
    "## A weighted prediction (where false positives are 5 times worse)"
   ]
  },
  {
   "cell_type": "code",
   "execution_count": 268,
   "metadata": {},
   "outputs": [
    {
     "data": {
      "text/plain": [
       "0.7776994061667264"
      ]
     },
     "execution_count": 268,
     "metadata": {},
     "output_type": "execute_result"
    }
   ],
   "source": [
    "Kfold_weighted_accuracy(X_train,y_train,clf_random_forest,5)"
   ]
  },
  {
   "cell_type": "markdown",
   "metadata": {},
   "source": [
    "# ANN - MLPClassifier"
   ]
  },
  {
   "cell_type": "code",
   "execution_count": 269,
   "metadata": {},
   "outputs": [],
   "source": [
    "from sklearn.neural_network import MLPClassifier"
   ]
  },
  {
   "cell_type": "markdown",
   "metadata": {},
   "source": [
    "This grid search takes the longest because of the number of combinations (~ 15 minutes). **we tried a 'relu' activation as well but it performed less good than the logistic so we deleted it to decrease the number of iterations**"
   ]
  },
  {
   "cell_type": "code",
   "execution_count": 272,
   "metadata": {},
   "outputs": [],
   "source": [
    "parameter_options = {'activation' : ['logistic'],\n",
    "                    'hidden_layer_sizes' : [(100,), (80,40)],\n",
    "                    'batch_size': [30,40,60]}\n",
    "ann_clf = GridSearchCV(MLPClassifier(max_iter=1000), parameter_options,cv=5, scoring= 'roc_auc',n_jobs=-1) "
   ]
  },
  {
   "cell_type": "code",
   "execution_count": 273,
   "metadata": {},
   "outputs": [
    {
     "name": "stdout",
     "output_type": "stream",
     "text": [
      "{'activation': 'logistic', 'batch_size': 40, 'hidden_layer_sizes': (100,)}\n",
      "0.8838683499163047\n"
     ]
    }
   ],
   "source": [
    "X_train, X_test, y_train, y_test = train_test_split(df_poly.loc[:,df_poly.columns!= 'label'],df_poly.label, test_size=0.2 )\n",
    "ann_clf.fit(X_train,y_train)\n",
    "print(ann_clf.best_params_)\n",
    "print(ann_clf.best_score_)"
   ]
  },
  {
   "cell_type": "markdown",
   "metadata": {},
   "source": [
    "Initialize the classifier with the best hyperParameters from the grid search **here we specify on the default hyperparameters as well**"
   ]
  },
  {
   "cell_type": "code",
   "execution_count": 287,
   "metadata": {},
   "outputs": [],
   "source": [
    "ann_clf = MLPClassifier(hidden_layer_sizes=(100,),\n",
    "    activation='logistic',\n",
    "    solver='sgd',\n",
    "    alpha=0.1,\n",
    "    batch_size=40,\n",
    "    learning_rate='constant',\n",
    "    learning_rate_init=0.1,\n",
    "    power_t=0.5,\n",
    "    max_iter=200,\n",
    "    shuffle=True,\n",
    "    random_state=123,\n",
    "    tol=0.0001,\n",
    "    verbose=False,\n",
    "    warm_start=False,\n",
    "    momentum=0.9,\n",
    "    nesterovs_momentum=True,\n",
    "    early_stopping=False,\n",
    "    validation_fraction=0.1,\n",
    "    beta_1=0.9,\n",
    "    beta_2=0.999,\n",
    "    epsilon=1e-08,\n",
    "    n_iter_no_change=10,\n",
    "    max_fun=15000)\n"
   ]
  },
  {
   "cell_type": "code",
   "execution_count": 288,
   "metadata": {},
   "outputs": [
    {
     "data": {
      "image/png": "[encoded data removed]",
      "text/plain": [
       "<Figure size 1152x648 with 1 Axes>"
      ]
     },
     "metadata": {
      "needs_background": "light"
     },
     "output_type": "display_data"
    }
   ],
   "source": [
    "KfoldPlot(X_train,y_train,ann_clf,5)"
   ]
  },
  {
   "cell_type": "markdown",
   "metadata": {},
   "source": [
    "## Accuracy metrics- we'll calculate the accuracy on the train set and the validation set to compare the performance on both "
   ]
  },
  {
   "cell_type": "code",
   "execution_count": 289,
   "metadata": {},
   "outputs": [
    {
     "name": "stdout",
     "output_type": "stream",
     "text": [
      "score on the train set is :0.8713674104826155\n",
      "score on the validation set is :0.864591439688716\n"
     ]
    }
   ],
   "source": [
    "print('score on the train set is :{}'.format(accuracy_score(y_train,ann_clf.predict(X_train))))\n",
    "print('score on the validation set is :{}'.format(accuracy_score(y_test, ann_clf.predict(X_test))))"
   ]
  },
  {
   "cell_type": "markdown",
   "metadata": {},
   "source": [
    "## A weighted prediction (where false positives are 5 times worse)"
   ]
  },
  {
   "cell_type": "code",
   "execution_count": 290,
   "metadata": {},
   "outputs": [
    {
     "data": {
      "text/plain": [
       "0.7804970171515503"
      ]
     },
     "execution_count": 290,
     "metadata": {},
     "output_type": "execute_result"
    }
   ],
   "source": [
    "Kfold_weighted_accuracy(X_train,y_train,ann_clf,5)"
   ]
  },
  {
   "cell_type": "markdown",
   "metadata": {},
   "source": [
    "# Prediction on test set"
   ]
  },
  {
   "cell_type": "markdown",
   "metadata": {},
   "source": [
    "## The method 'featurise' will perform all the data proccesing that is needed to perform the prediction on the test set"
   ]
  },
  {
   "cell_type": "markdown",
   "metadata": {},
   "source": [
    "**We will be performing almost the same data processing steps we did on the training data except the steps where we dropped rows with missing data. we will use imputation on missing data (using the columns averages)**"
   ]
  },
  {
   "cell_type": "code",
   "execution_count": 325,
   "metadata": {},
   "outputs": [],
   "source": [
    "def featurise(df):\n",
    "    # Removing the mm from column 14\n",
    "    for idx, row in df.iterrows():\n",
    "        df.iloc[idx,14] = row[14][:-2]\n",
    "    \n",
    "    # let's convert this column to floats\n",
    "    df['14'] = df['14'].astype(float)\n",
    "    #Let' remove the 'unkwown' values and replace them with nan\n",
    "    df.loc[df['13']=='unknown','13'] = np.nan\n",
    "    # now let's convert it to floats\n",
    "    df['13'] = df['13'].astype(float)\n",
    "    \n",
    "    # we can clearly see in the plot that the number of mean should be 2 \n",
    "    k_means = KMeans(2)\n",
    "    k_means.fit(df.loc[:,'10'].to_numpy().reshape(-1,1))\n",
    "    k_means.cluster_centers_\n",
    "    \n",
    "    df['10_binary'] = k_means.predict(df.loc[:,'10'].to_numpy().reshape(-1,1))\n",
    "    #we want to keep the label column last (just for our conveniece)\n",
    "    cols = df.columns.tolist()\n",
    "    cols = cols[-1:] + cols[:-1]\n",
    "    df = df[cols]\n",
    "    \n",
    "    # After running some tests, we discovered that dropping feature 10 gives better results ('10_binary holds enough information and highly correlated with feature '10)\n",
    "    df = df.drop(columns=['10'])\n",
    "    \n",
    "    # we aren't dropping features '11'/'12' since we got better results by leaving both of them\n",
    "    df = df.drop(columns=['1'])\n",
    "    df = df.drop(columns=['17'])\n",
    "    df = df.drop(columns=['0'])\n",
    "    df = df.drop(columns=['16'])\n",
    "    \n",
    "    # We will perform one hot encoding for the categorical features\n",
    "    one_hot = pd.get_dummies(df['5'])\n",
    "    df = df.join(one_hot.add_suffix('_F5'))\n",
    "    one_hot = pd.get_dummies(df['6'])\n",
    "    df = df.join(one_hot.add_suffix('_F6'))\n",
    "    one_hot = pd.get_dummies(df['18'])\n",
    "    df = df.join(one_hot.add_suffix('_F18'))\n",
    "    one_hot = pd.get_dummies(df['19'])\n",
    "    df = df.join(one_hot.add_suffix('_F19'))\n",
    "    one_hot = pd.get_dummies(df['22'])\n",
    "    df = df.join(one_hot)\n",
    "    one_hot = pd.get_dummies(df['9'])\n",
    "    df = df.join(one_hot.add_suffix('_Month'))\n",
    "    df = df.drop(columns=['5','6','18','19','22','9'])\n",
    "    \n",
    "    df['15'] = df['15'].fillna(df['15'].mean())\n",
    "    \n",
    "    df['20'] = df['20'].fillna(df['20'].mean())\n",
    "    # scaling\n",
    "    list_of_columns = list(df.columns[:15])\n",
    "    scaler = StandardScaler()\n",
    "    features_to_scale= df[list_of_columns]\n",
    "    scaler.fit(features_to_scale)\n",
    "    features_to_scale=pd.DataFrame(scaler.transform(features_to_scale),index=df.index)\n",
    "#     features_to_scale = features_to_scale.dropna()\n",
    "    rest_of_cols = df[df.columns[15:]]\n",
    "    df = features_to_scale.join(rest_of_cols)\n",
    "    df = df.fillna(df.mean())\n",
    "\n",
    "    #adding polynomial features\n",
    "    poly = PolynomialFeatures(degree=2)\n",
    "    df_poly = poly.fit_transform(df[df.columns[:15]])\n",
    "    \n",
    "    df_poly = pd.DataFrame(df_poly,index=df.index)\n",
    "    df_poly = df_poly.add_suffix('_poly')\n",
    "    \n",
    "    df_poly = df_poly.join(df[df.columns[15:]])\n",
    "    return df_poly"
   ]
  },
  {
   "cell_type": "code",
   "execution_count": 326,
   "metadata": {},
   "outputs": [],
   "source": [
    "df_test = pd.read_csv('test_without_target.csv')"
   ]
  },
  {
   "cell_type": "code",
   "execution_count": 327,
   "metadata": {},
   "outputs": [
    {
     "data": {
      "text/html": [
       "<div>\n",
       "<style scoped>\n",
       "    .dataframe tbody tr th:only-of-type {\n",
       "        vertical-align: middle;\n",
       "    }\n",
       "\n",
       "    .dataframe tbody tr th {\n",
       "        vertical-align: top;\n",
       "    }\n",
       "\n",
       "    .dataframe thead th {\n",
       "        text-align: right;\n",
       "    }\n",
       "</style>\n",
       "<table border=\"1\" class=\"dataframe\">\n",
       "  <thead>\n",
       "    <tr style=\"text-align: right;\">\n",
       "      <th></th>\n",
       "      <th>Unnamed: 0</th>\n",
       "      <th>0</th>\n",
       "      <th>1</th>\n",
       "      <th>2</th>\n",
       "      <th>3</th>\n",
       "      <th>4</th>\n",
       "      <th>5</th>\n",
       "      <th>6</th>\n",
       "      <th>7</th>\n",
       "      <th>8</th>\n",
       "      <th>9</th>\n",
       "      <th>10</th>\n",
       "      <th>11</th>\n",
       "      <th>12</th>\n",
       "      <th>13</th>\n",
       "      <th>14</th>\n",
       "      <th>15</th>\n",
       "      <th>16</th>\n",
       "      <th>17</th>\n",
       "      <th>18</th>\n",
       "      <th>19</th>\n",
       "      <th>20</th>\n",
       "      <th>21</th>\n",
       "      <th>22</th>\n",
       "      <th>23</th>\n",
       "      <th>24</th>\n",
       "    </tr>\n",
       "  </thead>\n",
       "  <tbody>\n",
       "    <tr>\n",
       "      <th>0</th>\n",
       "      <td>0</td>\n",
       "      <td>1.534361</td>\n",
       "      <td>12.002415</td>\n",
       "      <td>2.6</td>\n",
       "      <td>67.0</td>\n",
       "      <td>97.0</td>\n",
       "      <td>F</td>\n",
       "      <td>a11</td>\n",
       "      <td>1.600000</td>\n",
       "      <td>0.650000</td>\n",
       "      <td>3</td>\n",
       "      <td>0.212177</td>\n",
       "      <td>1022.1</td>\n",
       "      <td>1026.2</td>\n",
       "      <td>0</td>\n",
       "      <td>0.2mm</td>\n",
       "      <td>105.0</td>\n",
       "      <td>21.5</td>\n",
       "      <td>12.2</td>\n",
       "      <td>F</td>\n",
       "      <td>H</td>\n",
       "      <td>52.0</td>\n",
       "      <td>33.0</td>\n",
       "      <td>2012</td>\n",
       "      <td>70.0</td>\n",
       "      <td>354.720533</td>\n",
       "    </tr>\n",
       "    <tr>\n",
       "      <th>1</th>\n",
       "      <td>1</td>\n",
       "      <td>1.632953</td>\n",
       "      <td>14.821694</td>\n",
       "      <td>3.6</td>\n",
       "      <td>72.0</td>\n",
       "      <td>78.0</td>\n",
       "      <td>M</td>\n",
       "      <td>a18</td>\n",
       "      <td>1.942857</td>\n",
       "      <td>1.328571</td>\n",
       "      <td>4</td>\n",
       "      <td>0.126069</td>\n",
       "      <td>1013.2</td>\n",
       "      <td>1016.3</td>\n",
       "      <td>0</td>\n",
       "      <td>0.2mm</td>\n",
       "      <td>34.0</td>\n",
       "      <td>25.0</td>\n",
       "      <td>24.3</td>\n",
       "      <td>P</td>\n",
       "      <td>D</td>\n",
       "      <td>24.0</td>\n",
       "      <td>11.0</td>\n",
       "      <td>2012</td>\n",
       "      <td>40.0</td>\n",
       "      <td>120.529466</td>\n",
       "    </tr>\n",
       "    <tr>\n",
       "      <th>2</th>\n",
       "      <td>2</td>\n",
       "      <td>2.330694</td>\n",
       "      <td>21.399766</td>\n",
       "      <td>5.4</td>\n",
       "      <td>64.0</td>\n",
       "      <td>53.0</td>\n",
       "      <td>A</td>\n",
       "      <td>a20</td>\n",
       "      <td>1.864286</td>\n",
       "      <td>0.992857</td>\n",
       "      <td>8</td>\n",
       "      <td>0.263743</td>\n",
       "      <td>1017.2</td>\n",
       "      <td>1020.7</td>\n",
       "      <td>0</td>\n",
       "      <td>0.0mm</td>\n",
       "      <td>102.0</td>\n",
       "      <td>23.7</td>\n",
       "      <td>22.8</td>\n",
       "      <td>C</td>\n",
       "      <td>O</td>\n",
       "      <td>39.0</td>\n",
       "      <td>31.0</td>\n",
       "      <td>2011</td>\n",
       "      <td>70.0</td>\n",
       "      <td>294.533370</td>\n",
       "    </tr>\n",
       "    <tr>\n",
       "      <th>3</th>\n",
       "      <td>3</td>\n",
       "      <td>2.560304</td>\n",
       "      <td>21.744331</td>\n",
       "      <td>5.8</td>\n",
       "      <td>20.0</td>\n",
       "      <td>71.0</td>\n",
       "      <td>N</td>\n",
       "      <td>a18</td>\n",
       "      <td>2.457143</td>\n",
       "      <td>1.257143</td>\n",
       "      <td>11</td>\n",
       "      <td>0.182740</td>\n",
       "      <td>1007.0</td>\n",
       "      <td>1011.4</td>\n",
       "      <td>1</td>\n",
       "      <td>16.6mm</td>\n",
       "      <td>124.0</td>\n",
       "      <td>33.7</td>\n",
       "      <td>26.0</td>\n",
       "      <td>N</td>\n",
       "      <td>I</td>\n",
       "      <td>35.0</td>\n",
       "      <td>13.0</td>\n",
       "      <td>2012</td>\n",
       "      <td>60.0</td>\n",
       "      <td>57.037532</td>\n",
       "    </tr>\n",
       "    <tr>\n",
       "      <th>4</th>\n",
       "      <td>4</td>\n",
       "      <td>1.391859</td>\n",
       "      <td>18.158369</td>\n",
       "      <td>4.8</td>\n",
       "      <td>44.0</td>\n",
       "      <td>42.0</td>\n",
       "      <td>F</td>\n",
       "      <td>a3</td>\n",
       "      <td>1.285714</td>\n",
       "      <td>0.892857</td>\n",
       "      <td>9</td>\n",
       "      <td>0.241681</td>\n",
       "      <td>1020.7</td>\n",
       "      <td>1023.5</td>\n",
       "      <td>0</td>\n",
       "      <td>0.0mm</td>\n",
       "      <td>84.0</td>\n",
       "      <td>16.1</td>\n",
       "      <td>15.4</td>\n",
       "      <td>M</td>\n",
       "      <td>M</td>\n",
       "      <td>43.0</td>\n",
       "      <td>20.0</td>\n",
       "      <td>2012</td>\n",
       "      <td>200.0</td>\n",
       "      <td>178.457573</td>\n",
       "    </tr>\n",
       "  </tbody>\n",
       "</table>\n",
       "</div>"
      ],
      "text/plain": [
       "   Unnamed: 0         0          1    2     3     4  5    6         7  \\\n",
       "0           0  1.534361  12.002415  2.6  67.0  97.0  F  a11  1.600000   \n",
       "1           1  1.632953  14.821694  3.6  72.0  78.0  M  a18  1.942857   \n",
       "2           2  2.330694  21.399766  5.4  64.0  53.0  A  a20  1.864286   \n",
       "3           3  2.560304  21.744331  5.8  20.0  71.0  N  a18  2.457143   \n",
       "4           4  1.391859  18.158369  4.8  44.0  42.0  F   a3  1.285714   \n",
       "\n",
       "          8   9        10      11      12 13      14     15    16    17 18 19  \\\n",
       "0  0.650000   3  0.212177  1022.1  1026.2  0   0.2mm  105.0  21.5  12.2  F  H   \n",
       "1  1.328571   4  0.126069  1013.2  1016.3  0   0.2mm   34.0  25.0  24.3  P  D   \n",
       "2  0.992857   8  0.263743  1017.2  1020.7  0   0.0mm  102.0  23.7  22.8  C  O   \n",
       "3  1.257143  11  0.182740  1007.0  1011.4  1  16.6mm  124.0  33.7  26.0  N  I   \n",
       "4  0.892857   9  0.241681  1020.7  1023.5  0   0.0mm   84.0  16.1  15.4  M  M   \n",
       "\n",
       "     20    21    22     23          24  \n",
       "0  52.0  33.0  2012   70.0  354.720533  \n",
       "1  24.0  11.0  2012   40.0  120.529466  \n",
       "2  39.0  31.0  2011   70.0  294.533370  \n",
       "3  35.0  13.0  2012   60.0   57.037532  \n",
       "4  43.0  20.0  2012  200.0  178.457573  "
      ]
     },
     "execution_count": 327,
     "metadata": {},
     "output_type": "execute_result"
    }
   ],
   "source": [
    "df_test.head()"
   ]
  },
  {
   "cell_type": "code",
   "execution_count": 328,
   "metadata": {},
   "outputs": [
    {
     "data": {
      "text/html": [
       "<div>\n",
       "<style scoped>\n",
       "    .dataframe tbody tr th:only-of-type {\n",
       "        vertical-align: middle;\n",
       "    }\n",
       "\n",
       "    .dataframe tbody tr th {\n",
       "        vertical-align: top;\n",
       "    }\n",
       "\n",
       "    .dataframe thead th {\n",
       "        text-align: right;\n",
       "    }\n",
       "</style>\n",
       "<table border=\"1\" class=\"dataframe\">\n",
       "  <thead>\n",
       "    <tr style=\"text-align: right;\">\n",
       "      <th></th>\n",
       "      <th>0</th>\n",
       "      <th>1</th>\n",
       "      <th>2</th>\n",
       "      <th>3</th>\n",
       "      <th>4</th>\n",
       "      <th>5</th>\n",
       "      <th>6</th>\n",
       "      <th>7</th>\n",
       "      <th>8</th>\n",
       "      <th>9</th>\n",
       "      <th>10</th>\n",
       "      <th>11</th>\n",
       "      <th>12</th>\n",
       "      <th>13</th>\n",
       "      <th>14</th>\n",
       "      <th>15</th>\n",
       "      <th>16</th>\n",
       "      <th>17</th>\n",
       "      <th>18</th>\n",
       "      <th>19</th>\n",
       "      <th>20</th>\n",
       "      <th>21</th>\n",
       "      <th>22</th>\n",
       "      <th>23</th>\n",
       "      <th>24</th>\n",
       "    </tr>\n",
       "  </thead>\n",
       "  <tbody>\n",
       "    <tr>\n",
       "      <th>0</th>\n",
       "      <td>1.534361</td>\n",
       "      <td>12.002415</td>\n",
       "      <td>2.6</td>\n",
       "      <td>67.0</td>\n",
       "      <td>97.0</td>\n",
       "      <td>F</td>\n",
       "      <td>a11</td>\n",
       "      <td>1.600000</td>\n",
       "      <td>0.650000</td>\n",
       "      <td>3</td>\n",
       "      <td>0.212177</td>\n",
       "      <td>1022.1</td>\n",
       "      <td>1026.2</td>\n",
       "      <td>0</td>\n",
       "      <td>0.2mm</td>\n",
       "      <td>105.0</td>\n",
       "      <td>21.5</td>\n",
       "      <td>12.2</td>\n",
       "      <td>F</td>\n",
       "      <td>H</td>\n",
       "      <td>52.0</td>\n",
       "      <td>33.0</td>\n",
       "      <td>2012</td>\n",
       "      <td>70.0</td>\n",
       "      <td>354.720533</td>\n",
       "    </tr>\n",
       "    <tr>\n",
       "      <th>1</th>\n",
       "      <td>1.632953</td>\n",
       "      <td>14.821694</td>\n",
       "      <td>3.6</td>\n",
       "      <td>72.0</td>\n",
       "      <td>78.0</td>\n",
       "      <td>M</td>\n",
       "      <td>a18</td>\n",
       "      <td>1.942857</td>\n",
       "      <td>1.328571</td>\n",
       "      <td>4</td>\n",
       "      <td>0.126069</td>\n",
       "      <td>1013.2</td>\n",
       "      <td>1016.3</td>\n",
       "      <td>0</td>\n",
       "      <td>0.2mm</td>\n",
       "      <td>34.0</td>\n",
       "      <td>25.0</td>\n",
       "      <td>24.3</td>\n",
       "      <td>P</td>\n",
       "      <td>D</td>\n",
       "      <td>24.0</td>\n",
       "      <td>11.0</td>\n",
       "      <td>2012</td>\n",
       "      <td>40.0</td>\n",
       "      <td>120.529466</td>\n",
       "    </tr>\n",
       "    <tr>\n",
       "      <th>2</th>\n",
       "      <td>2.330694</td>\n",
       "      <td>21.399766</td>\n",
       "      <td>5.4</td>\n",
       "      <td>64.0</td>\n",
       "      <td>53.0</td>\n",
       "      <td>A</td>\n",
       "      <td>a20</td>\n",
       "      <td>1.864286</td>\n",
       "      <td>0.992857</td>\n",
       "      <td>8</td>\n",
       "      <td>0.263743</td>\n",
       "      <td>1017.2</td>\n",
       "      <td>1020.7</td>\n",
       "      <td>0</td>\n",
       "      <td>0.0mm</td>\n",
       "      <td>102.0</td>\n",
       "      <td>23.7</td>\n",
       "      <td>22.8</td>\n",
       "      <td>C</td>\n",
       "      <td>O</td>\n",
       "      <td>39.0</td>\n",
       "      <td>31.0</td>\n",
       "      <td>2011</td>\n",
       "      <td>70.0</td>\n",
       "      <td>294.533370</td>\n",
       "    </tr>\n",
       "    <tr>\n",
       "      <th>3</th>\n",
       "      <td>2.560304</td>\n",
       "      <td>21.744331</td>\n",
       "      <td>5.8</td>\n",
       "      <td>20.0</td>\n",
       "      <td>71.0</td>\n",
       "      <td>N</td>\n",
       "      <td>a18</td>\n",
       "      <td>2.457143</td>\n",
       "      <td>1.257143</td>\n",
       "      <td>11</td>\n",
       "      <td>0.182740</td>\n",
       "      <td>1007.0</td>\n",
       "      <td>1011.4</td>\n",
       "      <td>1</td>\n",
       "      <td>16.6mm</td>\n",
       "      <td>124.0</td>\n",
       "      <td>33.7</td>\n",
       "      <td>26.0</td>\n",
       "      <td>N</td>\n",
       "      <td>I</td>\n",
       "      <td>35.0</td>\n",
       "      <td>13.0</td>\n",
       "      <td>2012</td>\n",
       "      <td>60.0</td>\n",
       "      <td>57.037532</td>\n",
       "    </tr>\n",
       "    <tr>\n",
       "      <th>4</th>\n",
       "      <td>1.391859</td>\n",
       "      <td>18.158369</td>\n",
       "      <td>4.8</td>\n",
       "      <td>44.0</td>\n",
       "      <td>42.0</td>\n",
       "      <td>F</td>\n",
       "      <td>a3</td>\n",
       "      <td>1.285714</td>\n",
       "      <td>0.892857</td>\n",
       "      <td>9</td>\n",
       "      <td>0.241681</td>\n",
       "      <td>1020.7</td>\n",
       "      <td>1023.5</td>\n",
       "      <td>0</td>\n",
       "      <td>0.0mm</td>\n",
       "      <td>84.0</td>\n",
       "      <td>16.1</td>\n",
       "      <td>15.4</td>\n",
       "      <td>M</td>\n",
       "      <td>M</td>\n",
       "      <td>43.0</td>\n",
       "      <td>20.0</td>\n",
       "      <td>2012</td>\n",
       "      <td>200.0</td>\n",
       "      <td>178.457573</td>\n",
       "    </tr>\n",
       "  </tbody>\n",
       "</table>\n",
       "</div>"
      ],
      "text/plain": [
       "          0          1    2     3     4  5    6         7         8   9  \\\n",
       "0  1.534361  12.002415  2.6  67.0  97.0  F  a11  1.600000  0.650000   3   \n",
       "1  1.632953  14.821694  3.6  72.0  78.0  M  a18  1.942857  1.328571   4   \n",
       "2  2.330694  21.399766  5.4  64.0  53.0  A  a20  1.864286  0.992857   8   \n",
       "3  2.560304  21.744331  5.8  20.0  71.0  N  a18  2.457143  1.257143  11   \n",
       "4  1.391859  18.158369  4.8  44.0  42.0  F   a3  1.285714  0.892857   9   \n",
       "\n",
       "         10      11      12 13      14     15    16    17 18 19    20    21  \\\n",
       "0  0.212177  1022.1  1026.2  0   0.2mm  105.0  21.5  12.2  F  H  52.0  33.0   \n",
       "1  0.126069  1013.2  1016.3  0   0.2mm   34.0  25.0  24.3  P  D  24.0  11.0   \n",
       "2  0.263743  1017.2  1020.7  0   0.0mm  102.0  23.7  22.8  C  O  39.0  31.0   \n",
       "3  0.182740  1007.0  1011.4  1  16.6mm  124.0  33.7  26.0  N  I  35.0  13.0   \n",
       "4  0.241681  1020.7  1023.5  0   0.0mm   84.0  16.1  15.4  M  M  43.0  20.0   \n",
       "\n",
       "     22     23          24  \n",
       "0  2012   70.0  354.720533  \n",
       "1  2012   40.0  120.529466  \n",
       "2  2011   70.0  294.533370  \n",
       "3  2012   60.0   57.037532  \n",
       "4  2012  200.0  178.457573  "
      ]
     },
     "execution_count": 328,
     "metadata": {},
     "output_type": "execute_result"
    }
   ],
   "source": [
    "# we will clean the column 'Unnamed:0'\n",
    "df_test = df_test.drop(columns=['Unnamed: 0'])\n",
    "df_test.head()"
   ]
  },
  {
   "cell_type": "code",
   "execution_count": 329,
   "metadata": {},
   "outputs": [],
   "source": [
    "df_featurised = featurise(df_test)"
   ]
  },
  {
   "cell_type": "code",
   "execution_count": 330,
   "metadata": {},
   "outputs": [],
   "source": [
    "pd.DataFrame.to_csv(pd.DataFrame(clf_logreg.predict_proba(df_featurised)[:,1]),'29.csv')"
   ]
  }
 ],
 "metadata": {
  "kernelspec": {
   "display_name": "Python 3",
   "language": "python",
   "name": "python3"
  },
  "language_info": {
   "codemirror_mode": {
    "name": "ipython",
    "version": 3
   },
   "file_extension": ".py",
   "mimetype": "text/x-python",
   "name": "python",
   "nbconvert_exporter": "python",
   "pygments_lexer": "ipython3",
   "version": "3.7.4"
  }
 },
 "nbformat": 4,
 "nbformat_minor": 4
}
